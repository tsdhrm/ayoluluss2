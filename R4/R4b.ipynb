{
 "cells": [
  {
   "cell_type": "markdown",
   "id": "8883d0b8-0414-406c-b559-681683cfc688",
   "metadata": {},
   "source": [
    "# R4 Mark B"
   ]
  },
  {
   "cell_type": "code",
   "execution_count": 1,
   "id": "c3849cc4-7d3c-4f1a-ae9a-4c100403e799",
   "metadata": {},
   "outputs": [
    {
     "name": "stderr",
     "output_type": "stream",
     "text": [
      "2022-10-20 21:22:10.489481: I tensorflow/core/platform/cpu_feature_guard.cc:193] This TensorFlow binary is optimized with oneAPI Deep Neural Network Library (oneDNN) to use the following CPU instructions in performance-critical operations:  AVX2 FMA\n",
      "To enable them in other operations, rebuild TensorFlow with the appropriate compiler flags.\n",
      "2022-10-20 21:22:10.821040: W tensorflow/stream_executor/platform/default/dso_loader.cc:64] Could not load dynamic library 'libcudart.so.11.0'; dlerror: libcudart.so.11.0: cannot open shared object file: No such file or directory\n",
      "2022-10-20 21:22:10.821118: I tensorflow/stream_executor/cuda/cudart_stub.cc:29] Ignore above cudart dlerror if you do not have a GPU set up on your machine.\n",
      "2022-10-20 21:22:10.879852: E tensorflow/stream_executor/cuda/cuda_blas.cc:2981] Unable to register cuBLAS factory: Attempting to register factory for plugin cuBLAS when one has already been registered\n",
      "2022-10-20 21:22:12.674573: W tensorflow/stream_executor/platform/default/dso_loader.cc:64] Could not load dynamic library 'libnvinfer.so.7'; dlerror: libnvinfer.so.7: cannot open shared object file: No such file or directory\n",
      "2022-10-20 21:22:12.674708: W tensorflow/stream_executor/platform/default/dso_loader.cc:64] Could not load dynamic library 'libnvinfer_plugin.so.7'; dlerror: libnvinfer_plugin.so.7: cannot open shared object file: No such file or directory\n",
      "2022-10-20 21:22:12.674722: W tensorflow/compiler/tf2tensorrt/utils/py_utils.cc:38] TF-TRT Warning: Cannot dlopen some TensorRT libraries. If you would like to use Nvidia GPU with TensorRT, please make sure the missing libraries mentioned above are installed properly.\n"
     ]
    }
   ],
   "source": [
    "import pandas as pd\n",
    "import tensorflow as tf\n",
    "import numpy as np"
   ]
  },
  {
   "cell_type": "code",
   "execution_count": 12,
   "id": "59b1621e-b464-424f-a7b8-46d6b53121d9",
   "metadata": {},
   "outputs": [],
   "source": [
    "df = pd.read_csv('../exportedDataframe/a_features.csv')"
   ]
  },
  {
   "cell_type": "code",
   "execution_count": 13,
   "id": "fd5e9d03-7cb6-463a-80ca-93eeb92cb5b0",
   "metadata": {},
   "outputs": [],
   "source": [
    "def read_dataframe(dataframe):\n",
    "    dfc = dataframe.copy(True)\n",
    "    dfc.drop('ImagesName', inplace=True, axis=1)\n",
    "    return dfc\n",
    "    "
   ]
  },
  {
   "cell_type": "code",
   "execution_count": 14,
   "id": "0034bbc2-9558-41cb-8490-98a094d38914",
   "metadata": {},
   "outputs": [],
   "source": [
    "dfc = read_dataframe(df)"
   ]
  },
  {
   "cell_type": "code",
   "execution_count": 15,
   "id": "45ee9a46-750a-49a8-b4fb-b153305d2749",
   "metadata": {},
   "outputs": [
    {
     "data": {
      "text/html": [
       "<div>\n",
       "<style scoped>\n",
       "    .dataframe tbody tr th:only-of-type {\n",
       "        vertical-align: middle;\n",
       "    }\n",
       "\n",
       "    .dataframe tbody tr th {\n",
       "        vertical-align: top;\n",
       "    }\n",
       "\n",
       "    .dataframe thead th {\n",
       "        text-align: right;\n",
       "    }\n",
       "</style>\n",
       "<table border=\"1\" class=\"dataframe\">\n",
       "  <thead>\n",
       "    <tr style=\"text-align: right;\">\n",
       "      <th></th>\n",
       "      <th>CDR</th>\n",
       "      <th>VCDR</th>\n",
       "      <th>RDR</th>\n",
       "      <th>I</th>\n",
       "      <th>S</th>\n",
       "      <th>N</th>\n",
       "      <th>T</th>\n",
       "      <th>Labels</th>\n",
       "    </tr>\n",
       "  </thead>\n",
       "  <tbody>\n",
       "    <tr>\n",
       "      <th>0</th>\n",
       "      <td>0.543767</td>\n",
       "      <td>0.442765</td>\n",
       "      <td>0.116711</td>\n",
       "      <td>220</td>\n",
       "      <td>205</td>\n",
       "      <td>131</td>\n",
       "      <td>140</td>\n",
       "      <td>0</td>\n",
       "    </tr>\n",
       "    <tr>\n",
       "      <th>1</th>\n",
       "      <td>0.410188</td>\n",
       "      <td>0.344595</td>\n",
       "      <td>0.088472</td>\n",
       "      <td>193</td>\n",
       "      <td>226</td>\n",
       "      <td>112</td>\n",
       "      <td>188</td>\n",
       "      <td>0</td>\n",
       "    </tr>\n",
       "    <tr>\n",
       "      <th>2</th>\n",
       "      <td>0.431755</td>\n",
       "      <td>0.389447</td>\n",
       "      <td>0.231198</td>\n",
       "      <td>169</td>\n",
       "      <td>151</td>\n",
       "      <td>130</td>\n",
       "      <td>128</td>\n",
       "      <td>0</td>\n",
       "    </tr>\n",
       "    <tr>\n",
       "      <th>3</th>\n",
       "      <td>0.388740</td>\n",
       "      <td>0.375648</td>\n",
       "      <td>0.131367</td>\n",
       "      <td>171</td>\n",
       "      <td>173</td>\n",
       "      <td>109</td>\n",
       "      <td>180</td>\n",
       "      <td>0</td>\n",
       "    </tr>\n",
       "    <tr>\n",
       "      <th>4</th>\n",
       "      <td>0.408971</td>\n",
       "      <td>0.388471</td>\n",
       "      <td>0.147757</td>\n",
       "      <td>169</td>\n",
       "      <td>188</td>\n",
       "      <td>123</td>\n",
       "      <td>173</td>\n",
       "      <td>0</td>\n",
       "    </tr>\n",
       "    <tr>\n",
       "      <th>...</th>\n",
       "      <td>...</td>\n",
       "      <td>...</td>\n",
       "      <td>...</td>\n",
       "      <td>...</td>\n",
       "      <td>...</td>\n",
       "      <td>...</td>\n",
       "      <td>...</td>\n",
       "      <td>...</td>\n",
       "    </tr>\n",
       "    <tr>\n",
       "      <th>163</th>\n",
       "      <td>0.424157</td>\n",
       "      <td>0.399471</td>\n",
       "      <td>0.235955</td>\n",
       "      <td>149</td>\n",
       "      <td>144</td>\n",
       "      <td>133</td>\n",
       "      <td>122</td>\n",
       "      <td>1</td>\n",
       "    </tr>\n",
       "    <tr>\n",
       "      <th>164</th>\n",
       "      <td>0.447977</td>\n",
       "      <td>0.487421</td>\n",
       "      <td>0.167630</td>\n",
       "      <td>125</td>\n",
       "      <td>121</td>\n",
       "      <td>126</td>\n",
       "      <td>141</td>\n",
       "      <td>1</td>\n",
       "    </tr>\n",
       "    <tr>\n",
       "      <th>165</th>\n",
       "      <td>0.426710</td>\n",
       "      <td>0.454861</td>\n",
       "      <td>0.166124</td>\n",
       "      <td>120</td>\n",
       "      <td>101</td>\n",
       "      <td>110</td>\n",
       "      <td>122</td>\n",
       "      <td>1</td>\n",
       "    </tr>\n",
       "    <tr>\n",
       "      <th>166</th>\n",
       "      <td>0.345794</td>\n",
       "      <td>0.385417</td>\n",
       "      <td>0.233645</td>\n",
       "      <td>110</td>\n",
       "      <td>114</td>\n",
       "      <td>140</td>\n",
       "      <td>108</td>\n",
       "      <td>1</td>\n",
       "    </tr>\n",
       "    <tr>\n",
       "      <th>167</th>\n",
       "      <td>0.337176</td>\n",
       "      <td>0.362229</td>\n",
       "      <td>0.175793</td>\n",
       "      <td>167</td>\n",
       "      <td>157</td>\n",
       "      <td>3</td>\n",
       "      <td>166</td>\n",
       "      <td>1</td>\n",
       "    </tr>\n",
       "  </tbody>\n",
       "</table>\n",
       "<p>168 rows × 8 columns</p>\n",
       "</div>"
      ],
      "text/plain": [
       "          CDR      VCDR       RDR    I    S    N    T  Labels\n",
       "0    0.543767  0.442765  0.116711  220  205  131  140       0\n",
       "1    0.410188  0.344595  0.088472  193  226  112  188       0\n",
       "2    0.431755  0.389447  0.231198  169  151  130  128       0\n",
       "3    0.388740  0.375648  0.131367  171  173  109  180       0\n",
       "4    0.408971  0.388471  0.147757  169  188  123  173       0\n",
       "..        ...       ...       ...  ...  ...  ...  ...     ...\n",
       "163  0.424157  0.399471  0.235955  149  144  133  122       1\n",
       "164  0.447977  0.487421  0.167630  125  121  126  141       1\n",
       "165  0.426710  0.454861  0.166124  120  101  110  122       1\n",
       "166  0.345794  0.385417  0.233645  110  114  140  108       1\n",
       "167  0.337176  0.362229  0.175793  167  157    3  166       1\n",
       "\n",
       "[168 rows x 8 columns]"
      ]
     },
     "execution_count": 15,
     "metadata": {},
     "output_type": "execute_result"
    }
   ],
   "source": [
    "dfc"
   ]
  },
  {
   "cell_type": "markdown",
   "id": "393e1efb-4c10-4758-90ca-eac7700c7312",
   "metadata": {},
   "source": [
    "## Trial 1: StandardScaler\n",
    "dengan RDR max 0.19"
   ]
  },
  {
   "cell_type": "code",
   "execution_count": 16,
   "id": "4e46af1e-1c92-4cc0-8869-794e0cb7c801",
   "metadata": {},
   "outputs": [],
   "source": [
    "from sklearn.model_selection import train_test_split"
   ]
  },
  {
   "cell_type": "code",
   "execution_count": 17,
   "id": "15365dfb-5af7-4def-b550-9250062fe334",
   "metadata": {},
   "outputs": [],
   "source": [
    "from sklearn.preprocessing import StandardScaler"
   ]
  },
  {
   "cell_type": "code",
   "execution_count": 19,
   "id": "cb3b96f8-de8e-47eb-854f-332ba60b08ab",
   "metadata": {},
   "outputs": [],
   "source": [
    "X = dfc.drop('Labels', axis=1)\n",
    "y = dfc['Labels']\n",
    "\n",
    "X_train, X_test, y_train, y_test = train_test_split(\n",
    "    X, y, \n",
    "    test_size=0.2, random_state=42\n",
    ")"
   ]
  },
  {
   "cell_type": "code",
   "execution_count": 20,
   "id": "b01af784-ca96-44f7-bf17-44f8e08831bb",
   "metadata": {},
   "outputs": [],
   "source": [
    "scaler = StandardScaler()\n",
    "X_train_scaled = scaler.fit_transform(X_train)\n",
    "X_test_scaled = scaler.transform(X_test)"
   ]
  },
  {
   "cell_type": "code",
   "execution_count": 21,
   "id": "e7190a00-a403-4e3f-bcae-1f789cee1268",
   "metadata": {},
   "outputs": [
    {
     "name": "stderr",
     "output_type": "stream",
     "text": [
      "2022-10-20 21:34:22.957688: W tensorflow/stream_executor/platform/default/dso_loader.cc:64] Could not load dynamic library 'libcuda.so.1'; dlerror: libcuda.so.1: cannot open shared object file: No such file or directory\n",
      "2022-10-20 21:34:22.957777: W tensorflow/stream_executor/cuda/cuda_driver.cc:263] failed call to cuInit: UNKNOWN ERROR (303)\n",
      "2022-10-20 21:34:22.957846: I tensorflow/stream_executor/cuda/cuda_diagnostics.cc:156] kernel driver does not appear to be running on this host (fedora): /proc/driver/nvidia/version does not exist\n",
      "2022-10-20 21:34:22.960568: I tensorflow/core/platform/cpu_feature_guard.cc:193] This TensorFlow binary is optimized with oneAPI Deep Neural Network Library (oneDNN) to use the following CPU instructions in performance-critical operations:  AVX2 FMA\n",
      "To enable them in other operations, rebuild TensorFlow with the appropriate compiler flags.\n",
      "/home/tsdhrm/.local/share/virtualenvs/ayoluluss2-CxxF7UsW/lib/python3.10/site-packages/keras/optimizers/optimizer_v2/adam.py:114: UserWarning: The `lr` argument is deprecated, use `learning_rate` instead.\n",
      "  super().__init__(name, **kwargs)\n"
     ]
    },
    {
     "name": "stdout",
     "output_type": "stream",
     "text": [
      "Epoch 1/30\n",
      "5/5 [==============================] - 1s 4ms/step - loss: 0.7254 - accuracy: 0.5075 - precision: 0.5323 - recall: 0.4714\n",
      "Epoch 2/30\n",
      "5/5 [==============================] - 0s 3ms/step - loss: 0.6638 - accuracy: 0.6343 - precision: 0.5946 - recall: 0.9429\n",
      "Epoch 3/30\n",
      "5/5 [==============================] - 0s 4ms/step - loss: 0.6338 - accuracy: 0.6343 - precision: 0.6438 - recall: 0.6714\n",
      "Epoch 4/30\n",
      "5/5 [==============================] - 0s 4ms/step - loss: 0.5987 - accuracy: 0.6642 - precision: 0.6923 - recall: 0.6429\n",
      "Epoch 5/30\n",
      "5/5 [==============================] - 0s 3ms/step - loss: 0.5789 - accuracy: 0.6642 - precision: 0.6866 - recall: 0.6571\n",
      "Epoch 6/30\n",
      "5/5 [==============================] - 0s 3ms/step - loss: 0.5668 - accuracy: 0.7313 - precision: 0.8400 - recall: 0.6000\n",
      "Epoch 7/30\n",
      "5/5 [==============================] - 0s 4ms/step - loss: 0.5643 - accuracy: 0.7537 - precision: 0.8936 - recall: 0.6000\n",
      "Epoch 8/30\n",
      "5/5 [==============================] - 0s 3ms/step - loss: 0.5327 - accuracy: 0.7836 - precision: 0.8727 - recall: 0.6857\n",
      "Epoch 9/30\n",
      "5/5 [==============================] - 0s 4ms/step - loss: 0.5271 - accuracy: 0.7537 - precision: 0.7937 - recall: 0.7143\n",
      "Epoch 10/30\n",
      "5/5 [==============================] - 0s 3ms/step - loss: 0.5158 - accuracy: 0.7985 - precision: 0.9057 - recall: 0.6857\n",
      "Epoch 11/30\n",
      "5/5 [==============================] - 0s 4ms/step - loss: 0.5103 - accuracy: 0.7910 - precision: 0.9038 - recall: 0.6714\n",
      "Epoch 12/30\n",
      "5/5 [==============================] - 0s 3ms/step - loss: 0.5046 - accuracy: 0.8060 - precision: 0.9074 - recall: 0.7000\n",
      "Epoch 13/30\n",
      "5/5 [==============================] - 0s 4ms/step - loss: 0.5256 - accuracy: 0.7612 - precision: 0.7500 - recall: 0.8143\n",
      "Epoch 14/30\n",
      "5/5 [==============================] - 0s 5ms/step - loss: 0.5149 - accuracy: 0.7910 - precision: 0.8088 - recall: 0.7857\n",
      "Epoch 15/30\n",
      "5/5 [==============================] - 0s 3ms/step - loss: 0.4911 - accuracy: 0.7836 - precision: 0.8475 - recall: 0.7143\n",
      "Epoch 16/30\n",
      "5/5 [==============================] - 0s 4ms/step - loss: 0.4789 - accuracy: 0.8358 - precision: 0.9138 - recall: 0.7571\n",
      "Epoch 17/30\n",
      "5/5 [==============================] - 0s 3ms/step - loss: 0.4863 - accuracy: 0.8209 - precision: 0.8833 - recall: 0.7571\n",
      "Epoch 18/30\n",
      "5/5 [==============================] - 0s 4ms/step - loss: 0.4716 - accuracy: 0.8358 - precision: 0.9138 - recall: 0.7571\n",
      "Epoch 19/30\n",
      "5/5 [==============================] - 0s 4ms/step - loss: 0.4690 - accuracy: 0.8060 - precision: 0.8793 - recall: 0.7286\n",
      "Epoch 20/30\n",
      "5/5 [==============================] - 0s 4ms/step - loss: 0.4552 - accuracy: 0.8284 - precision: 0.8730 - recall: 0.7857\n",
      "Epoch 21/30\n",
      "5/5 [==============================] - 0s 3ms/step - loss: 0.4466 - accuracy: 0.8507 - precision: 0.9167 - recall: 0.7857\n",
      "Epoch 22/30\n",
      "5/5 [==============================] - 0s 4ms/step - loss: 0.4571 - accuracy: 0.7985 - precision: 0.9057 - recall: 0.6857\n",
      "Epoch 23/30\n",
      "5/5 [==============================] - 0s 5ms/step - loss: 0.4427 - accuracy: 0.8358 - precision: 0.9000 - recall: 0.7714\n",
      "Epoch 24/30\n",
      "5/5 [==============================] - 0s 4ms/step - loss: 0.4418 - accuracy: 0.8284 - precision: 0.8615 - recall: 0.8000\n",
      "Epoch 25/30\n",
      "5/5 [==============================] - 0s 3ms/step - loss: 0.4403 - accuracy: 0.8134 - precision: 0.8947 - recall: 0.7286\n",
      "Epoch 26/30\n",
      "5/5 [==============================] - 0s 4ms/step - loss: 0.4147 - accuracy: 0.8284 - precision: 0.8983 - recall: 0.7571\n",
      "Epoch 27/30\n",
      "5/5 [==============================] - 0s 7ms/step - loss: 0.4267 - accuracy: 0.8657 - precision: 0.8824 - recall: 0.8571\n",
      "Epoch 28/30\n",
      "5/5 [==============================] - 0s 3ms/step - loss: 0.4309 - accuracy: 0.8284 - precision: 0.8615 - recall: 0.8000\n",
      "Epoch 29/30\n",
      "5/5 [==============================] - 0s 4ms/step - loss: 0.3986 - accuracy: 0.8657 - precision: 0.8611 - recall: 0.8857\n",
      "Epoch 30/30\n",
      "5/5 [==============================] - 0s 4ms/step - loss: 0.4277 - accuracy: 0.8433 - precision: 0.8356 - recall: 0.8714\n"
     ]
    }
   ],
   "source": [
    "tf.random.set_seed(42)\n",
    "model = tf.keras.Sequential([\n",
    "    tf.keras.layers.Dense(7, activation='relu'), # 4,5,7,1\n",
    "    tf.keras.layers.Dense(2, activation='relu'),\n",
    "    tf.keras.layers.Dense(1, activation='sigmoid')\n",
    "])\n",
    "\n",
    "model.compile(\n",
    "    loss=tf.keras.losses.binary_crossentropy,\n",
    "    optimizer=tf.keras.optimizers.Adam(lr=0.05),\n",
    "    metrics=[\n",
    "        tf.keras.metrics.BinaryAccuracy(name='accuracy'),\n",
    "        tf.keras.metrics.Precision(name='precision'),\n",
    "        tf.keras.metrics.Recall(name='recall')\n",
    "    ]\n",
    ")\n",
    "\n",
    "history = model.fit(X_train_scaled, y_train, epochs=30)"
   ]
  },
  {
   "cell_type": "code",
   "execution_count": 23,
   "id": "a476db7b-283c-4869-bcd4-f7350583f098",
   "metadata": {},
   "outputs": [
    {
     "name": "stdout",
     "output_type": "stream",
     "text": [
      "2/2 [==============================] - 0s 3ms/step\n"
     ]
    }
   ],
   "source": [
    "predictions = model.predict(X_test_scaled)"
   ]
  },
  {
   "cell_type": "code",
   "execution_count": 24,
   "id": "7c028b5b-d2cd-4e67-b7e9-36afecf330dc",
   "metadata": {},
   "outputs": [],
   "source": [
    "prediction_classes = [\n",
    "    1 if prob > 0.5 else 0 for prob in np.ravel(predictions)\n",
    "]"
   ]
  },
  {
   "cell_type": "code",
   "execution_count": 32,
   "id": "64ca4775-17f4-4fc8-979c-105d032b7fcd",
   "metadata": {},
   "outputs": [
    {
     "name": "stdout",
     "output_type": "stream",
     "text": [
      "Accuracy: 0.82\n",
      "Precision: 0.75\n",
      "Recall: 0.86\n"
     ]
    }
   ],
   "source": [
    "from sklearn.metrics import accuracy_score, precision_score, recall_score\n",
    "\n",
    "print(f'Accuracy: {accuracy_score(y_test, prediction_classes):.2f}')\n",
    "print(f'Precision: {precision_score(y_test, prediction_classes):.2f}')\n",
    "print(f'Recall: {recall_score(y_test, prediction_classes):.2f}')"
   ]
  },
  {
   "cell_type": "markdown",
   "id": "bfe2e97f-3f01-4a40-991e-15caf089cfce",
   "metadata": {},
   "source": [
    "## Trial 2: MinMaxScaler"
   ]
  },
  {
   "cell_type": "code",
   "execution_count": 26,
   "id": "74e5c1bb-fe61-4abd-8331-77eb911eabbf",
   "metadata": {},
   "outputs": [],
   "source": [
    "df = pd.read_csv('../exportedDataframe/a_features.csv')\n",
    "dfc = read_dataframe(df)"
   ]
  },
  {
   "cell_type": "code",
   "execution_count": 27,
   "id": "f7ffc7bd-a3a6-4111-946e-2a65e4144a4f",
   "metadata": {},
   "outputs": [
    {
     "data": {
      "text/html": [
       "<div>\n",
       "<style scoped>\n",
       "    .dataframe tbody tr th:only-of-type {\n",
       "        vertical-align: middle;\n",
       "    }\n",
       "\n",
       "    .dataframe tbody tr th {\n",
       "        vertical-align: top;\n",
       "    }\n",
       "\n",
       "    .dataframe thead th {\n",
       "        text-align: right;\n",
       "    }\n",
       "</style>\n",
       "<table border=\"1\" class=\"dataframe\">\n",
       "  <thead>\n",
       "    <tr style=\"text-align: right;\">\n",
       "      <th></th>\n",
       "      <th>CDR</th>\n",
       "      <th>VCDR</th>\n",
       "      <th>RDR</th>\n",
       "      <th>I</th>\n",
       "      <th>S</th>\n",
       "      <th>N</th>\n",
       "      <th>T</th>\n",
       "      <th>Labels</th>\n",
       "    </tr>\n",
       "  </thead>\n",
       "  <tbody>\n",
       "    <tr>\n",
       "      <th>0</th>\n",
       "      <td>0.543767</td>\n",
       "      <td>0.442765</td>\n",
       "      <td>0.116711</td>\n",
       "      <td>220</td>\n",
       "      <td>205</td>\n",
       "      <td>131</td>\n",
       "      <td>140</td>\n",
       "      <td>0</td>\n",
       "    </tr>\n",
       "    <tr>\n",
       "      <th>1</th>\n",
       "      <td>0.410188</td>\n",
       "      <td>0.344595</td>\n",
       "      <td>0.088472</td>\n",
       "      <td>193</td>\n",
       "      <td>226</td>\n",
       "      <td>112</td>\n",
       "      <td>188</td>\n",
       "      <td>0</td>\n",
       "    </tr>\n",
       "    <tr>\n",
       "      <th>2</th>\n",
       "      <td>0.431755</td>\n",
       "      <td>0.389447</td>\n",
       "      <td>0.231198</td>\n",
       "      <td>169</td>\n",
       "      <td>151</td>\n",
       "      <td>130</td>\n",
       "      <td>128</td>\n",
       "      <td>0</td>\n",
       "    </tr>\n",
       "    <tr>\n",
       "      <th>3</th>\n",
       "      <td>0.388740</td>\n",
       "      <td>0.375648</td>\n",
       "      <td>0.131367</td>\n",
       "      <td>171</td>\n",
       "      <td>173</td>\n",
       "      <td>109</td>\n",
       "      <td>180</td>\n",
       "      <td>0</td>\n",
       "    </tr>\n",
       "    <tr>\n",
       "      <th>4</th>\n",
       "      <td>0.408971</td>\n",
       "      <td>0.388471</td>\n",
       "      <td>0.147757</td>\n",
       "      <td>169</td>\n",
       "      <td>188</td>\n",
       "      <td>123</td>\n",
       "      <td>173</td>\n",
       "      <td>0</td>\n",
       "    </tr>\n",
       "  </tbody>\n",
       "</table>\n",
       "</div>"
      ],
      "text/plain": [
       "        CDR      VCDR       RDR    I    S    N    T  Labels\n",
       "0  0.543767  0.442765  0.116711  220  205  131  140       0\n",
       "1  0.410188  0.344595  0.088472  193  226  112  188       0\n",
       "2  0.431755  0.389447  0.231198  169  151  130  128       0\n",
       "3  0.388740  0.375648  0.131367  171  173  109  180       0\n",
       "4  0.408971  0.388471  0.147757  169  188  123  173       0"
      ]
     },
     "execution_count": 27,
     "metadata": {},
     "output_type": "execute_result"
    }
   ],
   "source": [
    "dfc.head(5)"
   ]
  },
  {
   "cell_type": "code",
   "execution_count": 28,
   "id": "5637877a-2f91-45d6-aa27-794f22edc290",
   "metadata": {},
   "outputs": [],
   "source": [
    "X = dfc.drop('Labels', axis=1)\n",
    "y = dfc['Labels']\n",
    "\n",
    "X_train, X_test, y_train, y_test = train_test_split(\n",
    "    X, y, \n",
    "    test_size=0.2, random_state=42\n",
    ")"
   ]
  },
  {
   "cell_type": "code",
   "execution_count": 29,
   "id": "efce9a06-a96b-47f6-90ac-5281176654e7",
   "metadata": {},
   "outputs": [],
   "source": [
    "from sklearn.preprocessing import MinMaxScaler"
   ]
  },
  {
   "cell_type": "code",
   "execution_count": 30,
   "id": "33df6985-d1ea-42f8-93dc-26d1e6e4140c",
   "metadata": {},
   "outputs": [],
   "source": [
    "scaler = MinMaxScaler()\n",
    "X_train_scaled = scaler.fit_transform(X_train)\n",
    "X_test_scaled = scaler.transform(X_test)"
   ]
  },
  {
   "cell_type": "code",
   "execution_count": 31,
   "id": "e11d0d21-78c4-4a1a-8a9d-2afc3b851873",
   "metadata": {},
   "outputs": [
    {
     "name": "stdout",
     "output_type": "stream",
     "text": [
      "Epoch 1/30\n"
     ]
    },
    {
     "name": "stderr",
     "output_type": "stream",
     "text": [
      "/home/tsdhrm/.local/share/virtualenvs/ayoluluss2-CxxF7UsW/lib/python3.10/site-packages/keras/optimizers/optimizer_v2/adam.py:114: UserWarning: The `lr` argument is deprecated, use `learning_rate` instead.\n",
      "  super().__init__(name, **kwargs)\n"
     ]
    },
    {
     "name": "stdout",
     "output_type": "stream",
     "text": [
      "5/5 [==============================] - 1s 2ms/step - loss: 0.8237 - accuracy: 0.4701 - precision: 0.4912 - recall: 0.4000    \n",
      "Epoch 2/30\n",
      "5/5 [==============================] - 0s 3ms/step - loss: 0.6946 - accuracy: 0.5224 - precision: 0.5224 - recall: 1.0000\n",
      "Epoch 3/30\n",
      "5/5 [==============================] - 0s 4ms/step - loss: 0.6940 - accuracy: 0.5224 - precision: 0.5224 - recall: 1.0000\n",
      "Epoch 4/30\n",
      "5/5 [==============================] - 0s 4ms/step - loss: 0.6925 - accuracy: 0.5224 - precision: 0.5224 - recall: 1.0000\n",
      "Epoch 5/30\n",
      "5/5 [==============================] - 0s 3ms/step - loss: 0.6921 - accuracy: 0.5224 - precision: 0.5224 - recall: 1.0000\n",
      "Epoch 6/30\n",
      "5/5 [==============================] - 0s 4ms/step - loss: 0.6956 - accuracy: 0.4627 - precision: 0.4902 - recall: 0.7143\n",
      "Epoch 7/30\n",
      "5/5 [==============================] - 0s 4ms/step - loss: 0.6943 - accuracy: 0.4776 - precision: 0.0000e+00 - recall: 0.0000e+00\n",
      "Epoch 8/30\n",
      "5/5 [==============================] - 0s 4ms/step - loss: 0.6950 - accuracy: 0.4552 - precision: 0.4776 - recall: 0.4571    \n",
      "Epoch 9/30\n",
      "5/5 [==============================] - 0s 4ms/step - loss: 0.6888 - accuracy: 0.5224 - precision: 0.5224 - recall: 1.0000\n",
      "Epoch 10/30\n",
      "5/5 [==============================] - 0s 3ms/step - loss: 0.6879 - accuracy: 0.5224 - precision: 0.5224 - recall: 1.0000\n",
      "Epoch 11/30\n",
      "5/5 [==============================] - 0s 3ms/step - loss: 0.6863 - accuracy: 0.5224 - precision: 0.5224 - recall: 1.0000\n",
      "Epoch 12/30\n",
      "5/5 [==============================] - 0s 5ms/step - loss: 0.6848 - accuracy: 0.5522 - precision: 0.5463 - recall: 0.8429\n",
      "Epoch 13/30\n",
      "5/5 [==============================] - 0s 4ms/step - loss: 0.6775 - accuracy: 0.6119 - precision: 0.5833 - recall: 0.9000\n",
      "Epoch 14/30\n",
      "5/5 [==============================] - 0s 5ms/step - loss: 0.6786 - accuracy: 0.5672 - precision: 0.5484 - recall: 0.9714\n",
      "Epoch 15/30\n",
      "5/5 [==============================] - 0s 4ms/step - loss: 0.6727 - accuracy: 0.5970 - precision: 0.5800 - recall: 0.8286\n",
      "Epoch 16/30\n",
      "5/5 [==============================] - 0s 4ms/step - loss: 0.6677 - accuracy: 0.6045 - precision: 0.6104 - recall: 0.6714\n",
      "Epoch 17/30\n",
      "5/5 [==============================] - 0s 4ms/step - loss: 0.6622 - accuracy: 0.6269 - precision: 0.6471 - recall: 0.6286\n",
      "Epoch 18/30\n",
      "5/5 [==============================] - 0s 5ms/step - loss: 0.6563 - accuracy: 0.6791 - precision: 0.7547 - recall: 0.5714\n",
      "Epoch 19/30\n",
      "5/5 [==============================] - 0s 6ms/step - loss: 0.6519 - accuracy: 0.6493 - precision: 0.6769 - recall: 0.6286\n",
      "Epoch 20/30\n",
      "5/5 [==============================] - 0s 4ms/step - loss: 0.6532 - accuracy: 0.6194 - precision: 0.6118 - recall: 0.7429\n",
      "Epoch 21/30\n",
      "5/5 [==============================] - 0s 4ms/step - loss: 0.6481 - accuracy: 0.6119 - precision: 0.6250 - recall: 0.6429\n",
      "Epoch 22/30\n",
      "5/5 [==============================] - 0s 6ms/step - loss: 0.6409 - accuracy: 0.6269 - precision: 0.6389 - recall: 0.6571\n",
      "Epoch 23/30\n",
      "5/5 [==============================] - 0s 5ms/step - loss: 0.6374 - accuracy: 0.6269 - precision: 0.6220 - recall: 0.7286\n",
      "Epoch 24/30\n",
      "5/5 [==============================] - 0s 5ms/step - loss: 0.6378 - accuracy: 0.6269 - precision: 0.6351 - recall: 0.6714\n",
      "Epoch 25/30\n",
      "5/5 [==============================] - 0s 5ms/step - loss: 0.6338 - accuracy: 0.6343 - precision: 0.6479 - recall: 0.6571\n",
      "Epoch 26/30\n",
      "5/5 [==============================] - 0s 5ms/step - loss: 0.6394 - accuracy: 0.6493 - precision: 0.6769 - recall: 0.6286\n",
      "Epoch 27/30\n",
      "5/5 [==============================] - 0s 5ms/step - loss: 0.6438 - accuracy: 0.6194 - precision: 0.6118 - recall: 0.7429\n",
      "Epoch 28/30\n",
      "5/5 [==============================] - 0s 3ms/step - loss: 0.6391 - accuracy: 0.6493 - precision: 0.6533 - recall: 0.7000\n",
      "Epoch 29/30\n",
      "5/5 [==============================] - 0s 3ms/step - loss: 0.6303 - accuracy: 0.6343 - precision: 0.6522 - recall: 0.6429\n",
      "Epoch 30/30\n",
      "5/5 [==============================] - 0s 4ms/step - loss: 0.6370 - accuracy: 0.6194 - precision: 0.6067 - recall: 0.7714\n"
     ]
    }
   ],
   "source": [
    "tf.random.set_seed(42)\n",
    "model = tf.keras.Sequential([\n",
    "    tf.keras.layers.Dense(7, activation='relu'), # 4,5,7,1\n",
    "    tf.keras.layers.Dense(2, activation='relu'),\n",
    "    tf.keras.layers.Dense(1, activation='sigmoid')\n",
    "])\n",
    "\n",
    "model.compile(\n",
    "    loss=tf.keras.losses.binary_crossentropy,\n",
    "    optimizer=tf.keras.optimizers.Adam(lr=0.05),\n",
    "    metrics=[\n",
    "        tf.keras.metrics.BinaryAccuracy(name='accuracy'),\n",
    "        tf.keras.metrics.Precision(name='precision'),\n",
    "        tf.keras.metrics.Recall(name='recall')\n",
    "    ]\n",
    ")\n",
    "\n",
    "history = model.fit(X_train_scaled, y_train, epochs=30)"
   ]
  },
  {
   "cell_type": "code",
   "execution_count": 33,
   "id": "af8d7a79-2f73-460b-95df-48a443e30f70",
   "metadata": {},
   "outputs": [
    {
     "name": "stdout",
     "output_type": "stream",
     "text": [
      "2/2 [==============================] - 0s 2ms/step\n"
     ]
    }
   ],
   "source": [
    "predictions = model.predict(X_test_scaled)\n",
    "prediction_classes = [\n",
    "    1 if prob > 0.5 else 0 for prob in np.ravel(predictions)\n",
    "]"
   ]
  },
  {
   "cell_type": "code",
   "execution_count": 34,
   "id": "e6f3f6da-4dc9-4314-87ce-ed3dbc252834",
   "metadata": {},
   "outputs": [
    {
     "name": "stdout",
     "output_type": "stream",
     "text": [
      "Accuracy: 0.71\n",
      "Precision: 0.64\n",
      "Recall: 0.64\n"
     ]
    }
   ],
   "source": [
    "print(f'Accuracy: {accuracy_score(y_test, prediction_classes):.2f}')\n",
    "print(f'Precision: {precision_score(y_test, prediction_classes):.2f}')\n",
    "print(f'Recall: {recall_score(y_test, prediction_classes):.2f}')"
   ]
  },
  {
   "cell_type": "markdown",
   "id": "63017857-39db-4156-a381-2300207c2d74",
   "metadata": {},
   "source": [
    "## Trial 3: Messing with the architecture"
   ]
  },
  {
   "cell_type": "code",
   "execution_count": 298,
   "id": "0e24f54e-8ec0-4e58-91d8-696f067d9eae",
   "metadata": {},
   "outputs": [],
   "source": [
    "df = pd.read_csv('../exportedDataframe/a_features.csv')\n",
    "dfc = read_dataframe(df)"
   ]
  },
  {
   "cell_type": "code",
   "execution_count": 299,
   "id": "505e6f58-7904-452b-867f-cc17b82f2ef7",
   "metadata": {},
   "outputs": [],
   "source": [
    "X = dfc.drop('Labels', axis=1)\n",
    "y = dfc['Labels']\n",
    "\n",
    "X_train, X_test, y_train, y_test = train_test_split(\n",
    "    X, y, \n",
    "    test_size=0.2, random_state=42\n",
    ")"
   ]
  },
  {
   "cell_type": "code",
   "execution_count": 300,
   "id": "b6a15252-609f-492d-8a4f-de1e1d83b9dd",
   "metadata": {},
   "outputs": [],
   "source": [
    "scaler = StandardScaler()\n",
    "X_train_scaled = scaler.fit_transform(X_train)\n",
    "X_test_scaled = scaler.transform(X_test)"
   ]
  },
  {
   "cell_type": "code",
   "execution_count": 301,
   "id": "271617cf-f5f1-4c87-8005-7829b388eee5",
   "metadata": {},
   "outputs": [],
   "source": [
    "tf.random.set_seed(100)# 5 -> 79%\n",
    "model = tf.keras.Sequential([\n",
    "    tf.keras.layers.Dense(7, activation='relu'), # 4,5,7,1\n",
    "    tf.keras.layers.Dense(14, activation='relu'),\n",
    "    tf.keras.layers.Dense(1, activation='sigmoid')\n",
    "])\n",
    "\n",
    "model.compile(\n",
    "    loss=tf.keras.losses.binary_crossentropy,\n",
    "    optimizer=tf.keras.optimizers.Adam(learning_rate=0.05),\n",
    "    metrics=[\n",
    "        tf.keras.metrics.BinaryAccuracy(name='accuracy'),\n",
    "        tf.keras.metrics.Precision(name='precision'),\n",
    "        tf.keras.metrics.Recall(name='recall')\n",
    "    ]\n",
    ")\n",
    "\n",
    "history = model.fit(X_train_scaled, y_train, epochs=50, verbose=0)"
   ]
  },
  {
   "cell_type": "code",
   "execution_count": 302,
   "id": "4352d73d-b15a-4a18-b7b9-b54fe72dd74d",
   "metadata": {},
   "outputs": [
    {
     "name": "stdout",
     "output_type": "stream",
     "text": [
      "2/2 [==============================] - 0s 3ms/step\n"
     ]
    }
   ],
   "source": [
    "predictions = model.predict(X_test_scaled)\n",
    "prediction_classes = [\n",
    "    1 if prob > 0.5 else 0 for prob in np.ravel(predictions)\n",
    "]"
   ]
  },
  {
   "cell_type": "code",
   "execution_count": 303,
   "id": "c343ff38-b308-47a9-a2e3-2234458b05aa",
   "metadata": {},
   "outputs": [
    {
     "name": "stdout",
     "output_type": "stream",
     "text": [
      "Accuracy: 0.82\n",
      "Precision: 0.70\n",
      "Recall: 1.00\n"
     ]
    }
   ],
   "source": [
    "print(f'Accuracy: {accuracy_score(y_test, prediction_classes):.2f}')\n",
    "print(f'Precision: {precision_score(y_test, prediction_classes):.2f}')\n",
    "print(f'Recall: {recall_score(y_test, prediction_classes):.2f}')"
   ]
  },
  {
   "cell_type": "markdown",
   "id": "9d83ef6a-21b5-4948-8e5b-b38edc734556",
   "metadata": {},
   "source": [
    "## Trial 4"
   ]
  },
  {
   "cell_type": "code",
   "execution_count": 328,
   "id": "c7239be6-9ce9-4d78-87a3-f6f60e3f0c73",
   "metadata": {},
   "outputs": [],
   "source": [
    "df = pd.read_csv('../exportedDataframe/a_features.csv')\n",
    "dfc = read_dataframe(df)"
   ]
  },
  {
   "cell_type": "code",
   "execution_count": 329,
   "id": "d0ae601f-a280-4dfd-9376-bf9cbc528970",
   "metadata": {},
   "outputs": [],
   "source": [
    "X = dfc.drop('Labels', axis=1)\n",
    "y = dfc['Labels']\n",
    "\n",
    "X_train, X_test, y_train, y_test = train_test_split(\n",
    "    X, y, \n",
    "    test_size=0.2, random_state=42\n",
    ")"
   ]
  },
  {
   "cell_type": "code",
   "execution_count": 330,
   "id": "2c224688-d0ef-4582-9183-e0a190663f14",
   "metadata": {},
   "outputs": [],
   "source": [
    "scaler = StandardScaler()\n",
    "X_train_scaled = scaler.fit_transform(X_train)\n",
    "X_test_scaled = scaler.transform(X_test)"
   ]
  },
  {
   "cell_type": "code",
   "execution_count": 331,
   "id": "3f7f287e-2f2d-4729-ab36-e421241f5f0b",
   "metadata": {},
   "outputs": [],
   "source": [
    "tf.random.set_seed(1)# 5 -> 79%\n",
    "model = tf.keras.Sequential([\n",
    "    tf.keras.layers.Dense(7, activation='relu'), # 4,5,7,1\n",
    "    tf.keras.layers.Dense(3, activation='relu'),\n",
    "    tf.keras.layers.Dense(5, activation='relu'),\n",
    "    tf.keras.layers.Dense(2, activation='relu'),\n",
    "    tf.keras.layers.Dense(1, activation='sigmoid')\n",
    "])\n",
    "\n",
    "model.compile(\n",
    "    loss=tf.keras.losses.binary_crossentropy,\n",
    "    optimizer=tf.keras.optimizers.Adam(learning_rate=0.05),\n",
    "    metrics=[\n",
    "        tf.keras.metrics.BinaryAccuracy(name='accuracy'),\n",
    "        tf.keras.metrics.Precision(name='precision'),\n",
    "        tf.keras.metrics.Recall(name='recall')\n",
    "    ]\n",
    ")\n",
    "\n",
    "history = model.fit(X_train_scaled, y_train, epochs=50, verbose=0)"
   ]
  },
  {
   "cell_type": "code",
   "execution_count": 332,
   "id": "407f38d5-d1a6-4ab3-a677-ebad330e3588",
   "metadata": {},
   "outputs": [
    {
     "name": "stdout",
     "output_type": "stream",
     "text": [
      "2/2 [==============================] - 0s 3ms/step\n"
     ]
    }
   ],
   "source": [
    "predictions = model.predict(X_test_scaled)\n",
    "prediction_classes = [\n",
    "    1 if prob > 0.5 else 0 for prob in np.ravel(predictions)\n",
    "]"
   ]
  },
  {
   "cell_type": "code",
   "execution_count": 333,
   "id": "a0ed7c9d-3931-4aff-9929-29423614fa5e",
   "metadata": {},
   "outputs": [
    {
     "name": "stdout",
     "output_type": "stream",
     "text": [
      "Accuracy: 0.71\n",
      "Precision: 0.75\n",
      "Recall: 0.43\n"
     ]
    }
   ],
   "source": [
    "print(f'Accuracy: {accuracy_score(y_test, prediction_classes):.2f}')\n",
    "print(f'Precision: {precision_score(y_test, prediction_classes):.2f}')\n",
    "print(f'Recall: {recall_score(y_test, prediction_classes):.2f}')"
   ]
  }
 ],
 "metadata": {
  "kernelspec": {
   "display_name": "segeralulus-2de6Tznz",
   "language": "python",
   "name": "segeralulus-2de6tznz"
  },
  "language_info": {
   "codemirror_mode": {
    "name": "ipython",
    "version": 3
   },
   "file_extension": ".py",
   "mimetype": "text/x-python",
   "name": "python",
   "nbconvert_exporter": "python",
   "pygments_lexer": "ipython3",
   "version": "3.10.4"
  }
 },
 "nbformat": 4,
 "nbformat_minor": 5
}
