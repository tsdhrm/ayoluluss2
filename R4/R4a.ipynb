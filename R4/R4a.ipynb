{
 "cells": [
  {
   "cell_type": "markdown",
   "id": "ae6d1cde-52f3-4d1f-8a24-b9e9c3550b0f",
   "metadata": {},
   "source": [
    "# R4 Mark A"
   ]
  },
  {
   "cell_type": "code",
   "execution_count": 164,
   "id": "90f2bd8f-a6b1-4b3b-8db9-eea7c34c5253",
   "metadata": {},
   "outputs": [],
   "source": [
    "import pandas as pd\n",
    "import tensorflow as tf"
   ]
  },
  {
   "cell_type": "code",
   "execution_count": 165,
   "id": "8832d7cc-cb21-4adb-a383-12b46bb1840e",
   "metadata": {},
   "outputs": [],
   "source": [
    "df = pd.read_csv('../exportedDataframe/features.csv')"
   ]
  },
  {
   "cell_type": "code",
   "execution_count": 166,
   "id": "4ac56eb6-a6a0-445e-a1a0-32f6de7cb020",
   "metadata": {},
   "outputs": [
    {
     "data": {
      "text/html": [
       "<div>\n",
       "<style scoped>\n",
       "    .dataframe tbody tr th:only-of-type {\n",
       "        vertical-align: middle;\n",
       "    }\n",
       "\n",
       "    .dataframe tbody tr th {\n",
       "        vertical-align: top;\n",
       "    }\n",
       "\n",
       "    .dataframe thead th {\n",
       "        text-align: right;\n",
       "    }\n",
       "</style>\n",
       "<table border=\"1\" class=\"dataframe\">\n",
       "  <thead>\n",
       "    <tr style=\"text-align: right;\">\n",
       "      <th></th>\n",
       "      <th>ImagesName</th>\n",
       "      <th>CDR</th>\n",
       "      <th>VCDR</th>\n",
       "      <th>RDR</th>\n",
       "      <th>I</th>\n",
       "      <th>S</th>\n",
       "      <th>N</th>\n",
       "      <th>T</th>\n",
       "      <th>Labels</th>\n",
       "    </tr>\n",
       "  </thead>\n",
       "  <tbody>\n",
       "    <tr>\n",
       "      <th>0</th>\n",
       "      <td>Negative1</td>\n",
       "      <td>0.543767</td>\n",
       "      <td>0.442765</td>\n",
       "      <td>0.116711</td>\n",
       "      <td>220</td>\n",
       "      <td>205</td>\n",
       "      <td>131</td>\n",
       "      <td>140</td>\n",
       "      <td>0</td>\n",
       "    </tr>\n",
       "    <tr>\n",
       "      <th>1</th>\n",
       "      <td>Negative10</td>\n",
       "      <td>0.410188</td>\n",
       "      <td>0.344595</td>\n",
       "      <td>0.088472</td>\n",
       "      <td>193</td>\n",
       "      <td>226</td>\n",
       "      <td>112</td>\n",
       "      <td>188</td>\n",
       "      <td>0</td>\n",
       "    </tr>\n",
       "    <tr>\n",
       "      <th>2</th>\n",
       "      <td>Negative11</td>\n",
       "      <td>0.431755</td>\n",
       "      <td>0.389447</td>\n",
       "      <td>0.231198</td>\n",
       "      <td>169</td>\n",
       "      <td>151</td>\n",
       "      <td>130</td>\n",
       "      <td>128</td>\n",
       "      <td>0</td>\n",
       "    </tr>\n",
       "    <tr>\n",
       "      <th>3</th>\n",
       "      <td>Negative12</td>\n",
       "      <td>0.388740</td>\n",
       "      <td>0.375648</td>\n",
       "      <td>0.131367</td>\n",
       "      <td>171</td>\n",
       "      <td>173</td>\n",
       "      <td>109</td>\n",
       "      <td>180</td>\n",
       "      <td>0</td>\n",
       "    </tr>\n",
       "    <tr>\n",
       "      <th>4</th>\n",
       "      <td>Negative13</td>\n",
       "      <td>0.408971</td>\n",
       "      <td>0.388471</td>\n",
       "      <td>0.147757</td>\n",
       "      <td>169</td>\n",
       "      <td>188</td>\n",
       "      <td>123</td>\n",
       "      <td>173</td>\n",
       "      <td>0</td>\n",
       "    </tr>\n",
       "  </tbody>\n",
       "</table>\n",
       "</div>"
      ],
      "text/plain": [
       "   ImagesName       CDR      VCDR       RDR    I    S    N    T  Labels\n",
       "0   Negative1  0.543767  0.442765  0.116711  220  205  131  140       0\n",
       "1  Negative10  0.410188  0.344595  0.088472  193  226  112  188       0\n",
       "2  Negative11  0.431755  0.389447  0.231198  169  151  130  128       0\n",
       "3  Negative12  0.388740  0.375648  0.131367  171  173  109  180       0\n",
       "4  Negative13  0.408971  0.388471  0.147757  169  188  123  173       0"
      ]
     },
     "execution_count": 166,
     "metadata": {},
     "output_type": "execute_result"
    }
   ],
   "source": [
    "df.head(5)"
   ]
  },
  {
   "cell_type": "code",
   "execution_count": 167,
   "id": "9438ea43-8bf9-40a8-bc17-b80f30c87100",
   "metadata": {},
   "outputs": [
    {
     "name": "stdout",
     "output_type": "stream",
     "text": [
      "<class 'pandas.core.frame.DataFrame'>\n",
      "RangeIndex: 168 entries, 0 to 167\n",
      "Data columns (total 9 columns):\n",
      " #   Column      Non-Null Count  Dtype  \n",
      "---  ------      --------------  -----  \n",
      " 0   ImagesName  168 non-null    object \n",
      " 1   CDR         168 non-null    float64\n",
      " 2   VCDR        168 non-null    float64\n",
      " 3   RDR         168 non-null    float64\n",
      " 4   I           168 non-null    int64  \n",
      " 5   S           168 non-null    int64  \n",
      " 6   N           168 non-null    int64  \n",
      " 7   T           168 non-null    int64  \n",
      " 8   Labels      168 non-null    int64  \n",
      "dtypes: float64(3), int64(5), object(1)\n",
      "memory usage: 11.9+ KB\n"
     ]
    }
   ],
   "source": [
    "df.info()"
   ]
  },
  {
   "cell_type": "markdown",
   "id": "68cf07f5-3b09-4651-b6ce-e36c4530b1b6",
   "metadata": {},
   "source": [
    "## Trial 1"
   ]
  },
  {
   "cell_type": "code",
   "execution_count": 168,
   "id": "c8950da3-ded6-45e8-97d4-e83dc04722d8",
   "metadata": {},
   "outputs": [],
   "source": [
    "df2 = df.copy(deep=True)"
   ]
  },
  {
   "cell_type": "code",
   "execution_count": 169,
   "id": "ac7beac7-91ff-4bc8-9afd-7b16f6f7a6a4",
   "metadata": {},
   "outputs": [
    {
     "data": {
      "text/html": [
       "<div>\n",
       "<style scoped>\n",
       "    .dataframe tbody tr th:only-of-type {\n",
       "        vertical-align: middle;\n",
       "    }\n",
       "\n",
       "    .dataframe tbody tr th {\n",
       "        vertical-align: top;\n",
       "    }\n",
       "\n",
       "    .dataframe thead th {\n",
       "        text-align: right;\n",
       "    }\n",
       "</style>\n",
       "<table border=\"1\" class=\"dataframe\">\n",
       "  <thead>\n",
       "    <tr style=\"text-align: right;\">\n",
       "      <th></th>\n",
       "      <th>ImagesName</th>\n",
       "      <th>CDR</th>\n",
       "      <th>VCDR</th>\n",
       "      <th>RDR</th>\n",
       "      <th>I</th>\n",
       "      <th>S</th>\n",
       "      <th>N</th>\n",
       "      <th>T</th>\n",
       "      <th>Labels</th>\n",
       "    </tr>\n",
       "  </thead>\n",
       "  <tbody>\n",
       "    <tr>\n",
       "      <th>0</th>\n",
       "      <td>Negative1</td>\n",
       "      <td>0.543767</td>\n",
       "      <td>0.442765</td>\n",
       "      <td>0.116711</td>\n",
       "      <td>220</td>\n",
       "      <td>205</td>\n",
       "      <td>131</td>\n",
       "      <td>140</td>\n",
       "      <td>0</td>\n",
       "    </tr>\n",
       "    <tr>\n",
       "      <th>1</th>\n",
       "      <td>Negative10</td>\n",
       "      <td>0.410188</td>\n",
       "      <td>0.344595</td>\n",
       "      <td>0.088472</td>\n",
       "      <td>193</td>\n",
       "      <td>226</td>\n",
       "      <td>112</td>\n",
       "      <td>188</td>\n",
       "      <td>0</td>\n",
       "    </tr>\n",
       "    <tr>\n",
       "      <th>2</th>\n",
       "      <td>Negative11</td>\n",
       "      <td>0.431755</td>\n",
       "      <td>0.389447</td>\n",
       "      <td>0.231198</td>\n",
       "      <td>169</td>\n",
       "      <td>151</td>\n",
       "      <td>130</td>\n",
       "      <td>128</td>\n",
       "      <td>0</td>\n",
       "    </tr>\n",
       "    <tr>\n",
       "      <th>3</th>\n",
       "      <td>Negative12</td>\n",
       "      <td>0.388740</td>\n",
       "      <td>0.375648</td>\n",
       "      <td>0.131367</td>\n",
       "      <td>171</td>\n",
       "      <td>173</td>\n",
       "      <td>109</td>\n",
       "      <td>180</td>\n",
       "      <td>0</td>\n",
       "    </tr>\n",
       "    <tr>\n",
       "      <th>4</th>\n",
       "      <td>Negative13</td>\n",
       "      <td>0.408971</td>\n",
       "      <td>0.388471</td>\n",
       "      <td>0.147757</td>\n",
       "      <td>169</td>\n",
       "      <td>188</td>\n",
       "      <td>123</td>\n",
       "      <td>173</td>\n",
       "      <td>0</td>\n",
       "    </tr>\n",
       "    <tr>\n",
       "      <th>...</th>\n",
       "      <td>...</td>\n",
       "      <td>...</td>\n",
       "      <td>...</td>\n",
       "      <td>...</td>\n",
       "      <td>...</td>\n",
       "      <td>...</td>\n",
       "      <td>...</td>\n",
       "      <td>...</td>\n",
       "      <td>...</td>\n",
       "    </tr>\n",
       "    <tr>\n",
       "      <th>163</th>\n",
       "      <td>Positive81</td>\n",
       "      <td>0.424157</td>\n",
       "      <td>0.399471</td>\n",
       "      <td>0.235955</td>\n",
       "      <td>149</td>\n",
       "      <td>144</td>\n",
       "      <td>133</td>\n",
       "      <td>122</td>\n",
       "      <td>1</td>\n",
       "    </tr>\n",
       "    <tr>\n",
       "      <th>164</th>\n",
       "      <td>Positive82</td>\n",
       "      <td>0.447977</td>\n",
       "      <td>0.487421</td>\n",
       "      <td>0.167630</td>\n",
       "      <td>125</td>\n",
       "      <td>121</td>\n",
       "      <td>126</td>\n",
       "      <td>141</td>\n",
       "      <td>1</td>\n",
       "    </tr>\n",
       "    <tr>\n",
       "      <th>165</th>\n",
       "      <td>Positive83</td>\n",
       "      <td>0.426710</td>\n",
       "      <td>0.454861</td>\n",
       "      <td>0.166124</td>\n",
       "      <td>120</td>\n",
       "      <td>101</td>\n",
       "      <td>110</td>\n",
       "      <td>122</td>\n",
       "      <td>1</td>\n",
       "    </tr>\n",
       "    <tr>\n",
       "      <th>166</th>\n",
       "      <td>Positive84</td>\n",
       "      <td>0.345794</td>\n",
       "      <td>0.385417</td>\n",
       "      <td>0.233645</td>\n",
       "      <td>110</td>\n",
       "      <td>114</td>\n",
       "      <td>140</td>\n",
       "      <td>108</td>\n",
       "      <td>1</td>\n",
       "    </tr>\n",
       "    <tr>\n",
       "      <th>167</th>\n",
       "      <td>Positive9</td>\n",
       "      <td>0.337176</td>\n",
       "      <td>0.362229</td>\n",
       "      <td>0.175793</td>\n",
       "      <td>167</td>\n",
       "      <td>157</td>\n",
       "      <td>3</td>\n",
       "      <td>166</td>\n",
       "      <td>1</td>\n",
       "    </tr>\n",
       "  </tbody>\n",
       "</table>\n",
       "<p>168 rows × 9 columns</p>\n",
       "</div>"
      ],
      "text/plain": [
       "     ImagesName       CDR      VCDR       RDR    I    S    N    T  Labels\n",
       "0     Negative1  0.543767  0.442765  0.116711  220  205  131  140       0\n",
       "1    Negative10  0.410188  0.344595  0.088472  193  226  112  188       0\n",
       "2    Negative11  0.431755  0.389447  0.231198  169  151  130  128       0\n",
       "3    Negative12  0.388740  0.375648  0.131367  171  173  109  180       0\n",
       "4    Negative13  0.408971  0.388471  0.147757  169  188  123  173       0\n",
       "..          ...       ...       ...       ...  ...  ...  ...  ...     ...\n",
       "163  Positive81  0.424157  0.399471  0.235955  149  144  133  122       1\n",
       "164  Positive82  0.447977  0.487421  0.167630  125  121  126  141       1\n",
       "165  Positive83  0.426710  0.454861  0.166124  120  101  110  122       1\n",
       "166  Positive84  0.345794  0.385417  0.233645  110  114  140  108       1\n",
       "167   Positive9  0.337176  0.362229  0.175793  167  157    3  166       1\n",
       "\n",
       "[168 rows x 9 columns]"
      ]
     },
     "execution_count": 169,
     "metadata": {},
     "output_type": "execute_result"
    }
   ],
   "source": [
    "df2"
   ]
  },
  {
   "cell_type": "code",
   "execution_count": 170,
   "id": "cf2a2e3f-dcbc-4903-bf2f-836c63d5b87b",
   "metadata": {},
   "outputs": [],
   "source": [
    "df2.drop('ImagesName', inplace=True, axis=1)"
   ]
  },
  {
   "cell_type": "code",
   "execution_count": 171,
   "id": "03ffa0c2-10c9-4722-84ef-8f49a2d66438",
   "metadata": {},
   "outputs": [
    {
     "data": {
      "text/html": [
       "<div>\n",
       "<style scoped>\n",
       "    .dataframe tbody tr th:only-of-type {\n",
       "        vertical-align: middle;\n",
       "    }\n",
       "\n",
       "    .dataframe tbody tr th {\n",
       "        vertical-align: top;\n",
       "    }\n",
       "\n",
       "    .dataframe thead th {\n",
       "        text-align: right;\n",
       "    }\n",
       "</style>\n",
       "<table border=\"1\" class=\"dataframe\">\n",
       "  <thead>\n",
       "    <tr style=\"text-align: right;\">\n",
       "      <th></th>\n",
       "      <th>CDR</th>\n",
       "      <th>VCDR</th>\n",
       "      <th>RDR</th>\n",
       "      <th>I</th>\n",
       "      <th>S</th>\n",
       "      <th>N</th>\n",
       "      <th>T</th>\n",
       "      <th>Labels</th>\n",
       "    </tr>\n",
       "  </thead>\n",
       "  <tbody>\n",
       "    <tr>\n",
       "      <th>0</th>\n",
       "      <td>0.543767</td>\n",
       "      <td>0.442765</td>\n",
       "      <td>0.116711</td>\n",
       "      <td>220</td>\n",
       "      <td>205</td>\n",
       "      <td>131</td>\n",
       "      <td>140</td>\n",
       "      <td>0</td>\n",
       "    </tr>\n",
       "    <tr>\n",
       "      <th>1</th>\n",
       "      <td>0.410188</td>\n",
       "      <td>0.344595</td>\n",
       "      <td>0.088472</td>\n",
       "      <td>193</td>\n",
       "      <td>226</td>\n",
       "      <td>112</td>\n",
       "      <td>188</td>\n",
       "      <td>0</td>\n",
       "    </tr>\n",
       "    <tr>\n",
       "      <th>2</th>\n",
       "      <td>0.431755</td>\n",
       "      <td>0.389447</td>\n",
       "      <td>0.231198</td>\n",
       "      <td>169</td>\n",
       "      <td>151</td>\n",
       "      <td>130</td>\n",
       "      <td>128</td>\n",
       "      <td>0</td>\n",
       "    </tr>\n",
       "    <tr>\n",
       "      <th>3</th>\n",
       "      <td>0.388740</td>\n",
       "      <td>0.375648</td>\n",
       "      <td>0.131367</td>\n",
       "      <td>171</td>\n",
       "      <td>173</td>\n",
       "      <td>109</td>\n",
       "      <td>180</td>\n",
       "      <td>0</td>\n",
       "    </tr>\n",
       "    <tr>\n",
       "      <th>4</th>\n",
       "      <td>0.408971</td>\n",
       "      <td>0.388471</td>\n",
       "      <td>0.147757</td>\n",
       "      <td>169</td>\n",
       "      <td>188</td>\n",
       "      <td>123</td>\n",
       "      <td>173</td>\n",
       "      <td>0</td>\n",
       "    </tr>\n",
       "    <tr>\n",
       "      <th>...</th>\n",
       "      <td>...</td>\n",
       "      <td>...</td>\n",
       "      <td>...</td>\n",
       "      <td>...</td>\n",
       "      <td>...</td>\n",
       "      <td>...</td>\n",
       "      <td>...</td>\n",
       "      <td>...</td>\n",
       "    </tr>\n",
       "    <tr>\n",
       "      <th>163</th>\n",
       "      <td>0.424157</td>\n",
       "      <td>0.399471</td>\n",
       "      <td>0.235955</td>\n",
       "      <td>149</td>\n",
       "      <td>144</td>\n",
       "      <td>133</td>\n",
       "      <td>122</td>\n",
       "      <td>1</td>\n",
       "    </tr>\n",
       "    <tr>\n",
       "      <th>164</th>\n",
       "      <td>0.447977</td>\n",
       "      <td>0.487421</td>\n",
       "      <td>0.167630</td>\n",
       "      <td>125</td>\n",
       "      <td>121</td>\n",
       "      <td>126</td>\n",
       "      <td>141</td>\n",
       "      <td>1</td>\n",
       "    </tr>\n",
       "    <tr>\n",
       "      <th>165</th>\n",
       "      <td>0.426710</td>\n",
       "      <td>0.454861</td>\n",
       "      <td>0.166124</td>\n",
       "      <td>120</td>\n",
       "      <td>101</td>\n",
       "      <td>110</td>\n",
       "      <td>122</td>\n",
       "      <td>1</td>\n",
       "    </tr>\n",
       "    <tr>\n",
       "      <th>166</th>\n",
       "      <td>0.345794</td>\n",
       "      <td>0.385417</td>\n",
       "      <td>0.233645</td>\n",
       "      <td>110</td>\n",
       "      <td>114</td>\n",
       "      <td>140</td>\n",
       "      <td>108</td>\n",
       "      <td>1</td>\n",
       "    </tr>\n",
       "    <tr>\n",
       "      <th>167</th>\n",
       "      <td>0.337176</td>\n",
       "      <td>0.362229</td>\n",
       "      <td>0.175793</td>\n",
       "      <td>167</td>\n",
       "      <td>157</td>\n",
       "      <td>3</td>\n",
       "      <td>166</td>\n",
       "      <td>1</td>\n",
       "    </tr>\n",
       "  </tbody>\n",
       "</table>\n",
       "<p>168 rows × 8 columns</p>\n",
       "</div>"
      ],
      "text/plain": [
       "          CDR      VCDR       RDR    I    S    N    T  Labels\n",
       "0    0.543767  0.442765  0.116711  220  205  131  140       0\n",
       "1    0.410188  0.344595  0.088472  193  226  112  188       0\n",
       "2    0.431755  0.389447  0.231198  169  151  130  128       0\n",
       "3    0.388740  0.375648  0.131367  171  173  109  180       0\n",
       "4    0.408971  0.388471  0.147757  169  188  123  173       0\n",
       "..        ...       ...       ...  ...  ...  ...  ...     ...\n",
       "163  0.424157  0.399471  0.235955  149  144  133  122       1\n",
       "164  0.447977  0.487421  0.167630  125  121  126  141       1\n",
       "165  0.426710  0.454861  0.166124  120  101  110  122       1\n",
       "166  0.345794  0.385417  0.233645  110  114  140  108       1\n",
       "167  0.337176  0.362229  0.175793  167  157    3  166       1\n",
       "\n",
       "[168 rows x 8 columns]"
      ]
     },
     "execution_count": 171,
     "metadata": {},
     "output_type": "execute_result"
    }
   ],
   "source": [
    "df2"
   ]
  },
  {
   "cell_type": "code",
   "execution_count": 172,
   "id": "4e346c5c-fabc-4da9-9819-af16831b12ad",
   "metadata": {},
   "outputs": [],
   "source": [
    "from sklearn.model_selection import train_test_split"
   ]
  },
  {
   "cell_type": "code",
   "execution_count": 173,
   "id": "0c16cc77-9758-47e9-8e75-92bf6c2937cb",
   "metadata": {},
   "outputs": [],
   "source": [
    "X = df2.drop('Labels', axis=1)\n",
    "y = df2['Labels']\n",
    "\n",
    "X_train, X_test, y_train, y_test = train_test_split(\n",
    "    X, y, \n",
    "    test_size=0.2, random_state=42\n",
    ")"
   ]
  },
  {
   "cell_type": "code",
   "execution_count": 174,
   "id": "d59b2610-05fd-4944-8364-38124a526e68",
   "metadata": {},
   "outputs": [],
   "source": [
    "from sklearn.preprocessing import StandardScaler"
   ]
  },
  {
   "cell_type": "code",
   "execution_count": 175,
   "id": "4c07526d-1ef1-41b1-8292-8057794874d7",
   "metadata": {},
   "outputs": [],
   "source": [
    "scaler = StandardScaler()\n",
    "X_train_scaled = scaler.fit_transform(X_train)\n",
    "X_test_scaled = scaler.transform(X_test)"
   ]
  },
  {
   "cell_type": "code",
   "execution_count": 176,
   "id": "049d0caa-d2da-4b58-9901-495d4c925130",
   "metadata": {},
   "outputs": [
    {
     "name": "stdout",
     "output_type": "stream",
     "text": [
      "Epoch 1/30\n"
     ]
    },
    {
     "name": "stderr",
     "output_type": "stream",
     "text": [
      "/home/tsdhrm/.local/share/virtualenvs/ayoluluss2-CxxF7UsW/lib/python3.10/site-packages/keras/optimizers/optimizer_v2/adam.py:114: UserWarning: The `lr` argument is deprecated, use `learning_rate` instead.\n",
      "  super().__init__(name, **kwargs)\n"
     ]
    },
    {
     "name": "stdout",
     "output_type": "stream",
     "text": [
      "5/5 [==============================] - 1s 2ms/step - loss: 0.7019 - accuracy: 0.5000 - precision: 0.5181 - recall: 0.6143    \n",
      "Epoch 2/30\n",
      "5/5 [==============================] - 0s 4ms/step - loss: 0.6870 - accuracy: 0.5299 - precision: 0.5263 - recall: 1.0000\n",
      "Epoch 3/30\n",
      "5/5 [==============================] - 0s 3ms/step - loss: 0.6592 - accuracy: 0.5224 - precision: 0.5224 - recall: 1.0000\n",
      "Epoch 4/30\n",
      "5/5 [==============================] - 0s 4ms/step - loss: 0.6074 - accuracy: 0.5299 - precision: 0.5263 - recall: 1.0000\n",
      "Epoch 5/30\n",
      "5/5 [==============================] - 0s 3ms/step - loss: 0.5957 - accuracy: 0.6716 - precision: 0.7241 - recall: 0.6000\n",
      "Epoch 6/30\n",
      "5/5 [==============================] - 0s 4ms/step - loss: 0.5670 - accuracy: 0.7388 - precision: 0.8571 - recall: 0.6000\n",
      "Epoch 7/30\n",
      "5/5 [==============================] - 0s 3ms/step - loss: 0.5656 - accuracy: 0.7239 - precision: 0.8667 - recall: 0.5571\n",
      "Epoch 8/30\n",
      "5/5 [==============================] - 0s 3ms/step - loss: 0.5505 - accuracy: 0.7388 - precision: 0.8723 - recall: 0.5857\n",
      "Epoch 9/30\n",
      "5/5 [==============================] - 0s 4ms/step - loss: 0.5495 - accuracy: 0.7090 - precision: 0.8605 - recall: 0.5286\n",
      "Epoch 10/30\n",
      "5/5 [==============================] - 0s 4ms/step - loss: 0.5422 - accuracy: 0.7090 - precision: 0.8039 - recall: 0.5857\n",
      "Epoch 11/30\n",
      "5/5 [==============================] - 0s 4ms/step - loss: 0.5469 - accuracy: 0.7090 - precision: 0.8163 - recall: 0.5714\n",
      "Epoch 12/30\n",
      "5/5 [==============================] - 0s 3ms/step - loss: 0.5335 - accuracy: 0.7388 - precision: 0.8889 - recall: 0.5714\n",
      "Epoch 13/30\n",
      "5/5 [==============================] - 0s 3ms/step - loss: 0.5238 - accuracy: 0.7388 - precision: 0.8723 - recall: 0.5857\n",
      "Epoch 14/30\n",
      "5/5 [==============================] - 0s 3ms/step - loss: 0.5404 - accuracy: 0.7313 - precision: 0.8400 - recall: 0.6000\n",
      "Epoch 15/30\n",
      "5/5 [==============================] - 0s 4ms/step - loss: 0.5265 - accuracy: 0.7313 - precision: 0.8696 - recall: 0.5714\n",
      "Epoch 16/30\n",
      "5/5 [==============================] - 0s 4ms/step - loss: 0.5213 - accuracy: 0.7313 - precision: 0.9250 - recall: 0.5286\n",
      "Epoch 17/30\n",
      "5/5 [==============================] - 0s 3ms/step - loss: 0.5319 - accuracy: 0.7239 - precision: 0.8235 - recall: 0.6000\n",
      "Epoch 18/30\n",
      "5/5 [==============================] - 0s 3ms/step - loss: 0.5246 - accuracy: 0.7164 - precision: 0.8333 - recall: 0.5714\n",
      "Epoch 19/30\n",
      "5/5 [==============================] - 0s 4ms/step - loss: 0.5192 - accuracy: 0.7537 - precision: 0.9744 - recall: 0.5429\n",
      "Epoch 20/30\n",
      "5/5 [==============================] - 0s 3ms/step - loss: 0.5262 - accuracy: 0.7239 - precision: 0.8837 - recall: 0.5429\n",
      "Epoch 21/30\n",
      "5/5 [==============================] - 0s 3ms/step - loss: 0.5136 - accuracy: 0.7388 - precision: 0.9070 - recall: 0.5571\n",
      "Epoch 22/30\n",
      "5/5 [==============================] - 0s 4ms/step - loss: 0.5024 - accuracy: 0.7463 - precision: 0.9091 - recall: 0.5714\n",
      "Epoch 23/30\n",
      "5/5 [==============================] - 0s 4ms/step - loss: 0.4939 - accuracy: 0.7537 - precision: 0.9302 - recall: 0.5714\n",
      "Epoch 24/30\n",
      "5/5 [==============================] - 0s 3ms/step - loss: 0.5079 - accuracy: 0.7164 - precision: 0.8333 - recall: 0.5714\n",
      "Epoch 25/30\n",
      "5/5 [==============================] - 0s 3ms/step - loss: 0.4982 - accuracy: 0.7239 - precision: 0.8511 - recall: 0.5714\n",
      "Epoch 26/30\n",
      "5/5 [==============================] - 0s 3ms/step - loss: 0.5197 - accuracy: 0.7463 - precision: 0.9737 - recall: 0.5286\n",
      "Epoch 27/30\n",
      "5/5 [==============================] - 0s 3ms/step - loss: 0.5106 - accuracy: 0.7164 - precision: 0.9211 - recall: 0.5000\n",
      "Epoch 28/30\n",
      "5/5 [==============================] - 0s 3ms/step - loss: 0.5227 - accuracy: 0.7164 - precision: 0.8636 - recall: 0.5429\n",
      "Epoch 29/30\n",
      "5/5 [==============================] - 0s 3ms/step - loss: 0.5001 - accuracy: 0.7388 - precision: 0.9070 - recall: 0.5571\n",
      "Epoch 30/30\n",
      "5/5 [==============================] - 0s 4ms/step - loss: 0.4788 - accuracy: 0.7463 - precision: 0.9500 - recall: 0.5429\n"
     ]
    }
   ],
   "source": [
    "tf.random.set_seed(42)\n",
    "model = tf.keras.Sequential([\n",
    "    tf.keras.layers.Dense(7, activation='relu'), # 4,5,7,1\n",
    "    tf.keras.layers.Dense(2, activation='relu'),\n",
    "    tf.keras.layers.Dense(1, activation='sigmoid')\n",
    "])\n",
    "\n",
    "model.compile(\n",
    "    loss=tf.keras.losses.binary_crossentropy,\n",
    "    optimizer=tf.keras.optimizers.Adam(lr=0.05),\n",
    "    metrics=[\n",
    "        tf.keras.metrics.BinaryAccuracy(name='accuracy'),\n",
    "        tf.keras.metrics.Precision(name='precision'),\n",
    "        tf.keras.metrics.Recall(name='recall')\n",
    "    ]\n",
    ")\n",
    "\n",
    "history = model.fit(X_train_scaled, y_train, epochs=30)"
   ]
  },
  {
   "cell_type": "code",
   "execution_count": 177,
   "id": "234372c5-1114-4a7e-b568-a4f8a2418144",
   "metadata": {},
   "outputs": [
    {
     "name": "stdout",
     "output_type": "stream",
     "text": [
      "2/2 [==============================] - 0s 2ms/step\n"
     ]
    }
   ],
   "source": [
    "predictions = model.predict(X_test_scaled)"
   ]
  },
  {
   "cell_type": "code",
   "execution_count": 178,
   "id": "53053124-7730-4ee9-857b-020957c1c852",
   "metadata": {},
   "outputs": [],
   "source": [
    "import numpy as np"
   ]
  },
  {
   "cell_type": "code",
   "execution_count": 179,
   "id": "e1c33740-3f9a-4b30-aba6-fa10eb39bedc",
   "metadata": {},
   "outputs": [],
   "source": [
    "prediction_classes = [\n",
    "    1 if prob > 0.5 else 0 for prob in np.ravel(predictions)\n",
    "]"
   ]
  },
  {
   "cell_type": "code",
   "execution_count": 180,
   "id": "173f787d-e4b8-45de-82d5-ceea7dc4f09b",
   "metadata": {},
   "outputs": [
    {
     "name": "stdout",
     "output_type": "stream",
     "text": [
      "Accuracy: 0.82\n",
      "Precision: 0.90\n",
      "Recall: 0.64\n"
     ]
    }
   ],
   "source": [
    "from sklearn.metrics import accuracy_score, precision_score, recall_score\n",
    "\n",
    "print(f'Accuracy: {accuracy_score(y_test, prediction_classes):.2f}')\n",
    "print(f'Precision: {precision_score(y_test, prediction_classes):.2f}')\n",
    "print(f'Recall: {recall_score(y_test, prediction_classes):.2f}')"
   ]
  },
  {
   "cell_type": "markdown",
   "id": "9d5546ca-9f83-4999-8088-4c5034282fb8",
   "metadata": {},
   "source": [
    "## Scikit Learn SVM"
   ]
  },
  {
   "cell_type": "code",
   "execution_count": 188,
   "id": "fd9e6494-4a89-404f-afb1-466fe09d64cb",
   "metadata": {},
   "outputs": [],
   "source": [
    "from sklearn import svm"
   ]
  },
  {
   "cell_type": "code",
   "execution_count": 199,
   "id": "0d109e66-5594-4a05-849f-e871ee3d82b2",
   "metadata": {},
   "outputs": [],
   "source": [
    "clf = svm.SVC(kernel='rbf')"
   ]
  },
  {
   "cell_type": "code",
   "execution_count": 200,
   "id": "d15e6b53-c960-413a-8cbf-e8139fc0ab47",
   "metadata": {},
   "outputs": [
    {
     "data": {
      "text/html": [
       "<style>#sk-container-id-4 {color: black;background-color: white;}#sk-container-id-4 pre{padding: 0;}#sk-container-id-4 div.sk-toggleable {background-color: white;}#sk-container-id-4 label.sk-toggleable__label {cursor: pointer;display: block;width: 100%;margin-bottom: 0;padding: 0.3em;box-sizing: border-box;text-align: center;}#sk-container-id-4 label.sk-toggleable__label-arrow:before {content: \"▸\";float: left;margin-right: 0.25em;color: #696969;}#sk-container-id-4 label.sk-toggleable__label-arrow:hover:before {color: black;}#sk-container-id-4 div.sk-estimator:hover label.sk-toggleable__label-arrow:before {color: black;}#sk-container-id-4 div.sk-toggleable__content {max-height: 0;max-width: 0;overflow: hidden;text-align: left;background-color: #f0f8ff;}#sk-container-id-4 div.sk-toggleable__content pre {margin: 0.2em;color: black;border-radius: 0.25em;background-color: #f0f8ff;}#sk-container-id-4 input.sk-toggleable__control:checked~div.sk-toggleable__content {max-height: 200px;max-width: 100%;overflow: auto;}#sk-container-id-4 input.sk-toggleable__control:checked~label.sk-toggleable__label-arrow:before {content: \"▾\";}#sk-container-id-4 div.sk-estimator input.sk-toggleable__control:checked~label.sk-toggleable__label {background-color: #d4ebff;}#sk-container-id-4 div.sk-label input.sk-toggleable__control:checked~label.sk-toggleable__label {background-color: #d4ebff;}#sk-container-id-4 input.sk-hidden--visually {border: 0;clip: rect(1px 1px 1px 1px);clip: rect(1px, 1px, 1px, 1px);height: 1px;margin: -1px;overflow: hidden;padding: 0;position: absolute;width: 1px;}#sk-container-id-4 div.sk-estimator {font-family: monospace;background-color: #f0f8ff;border: 1px dotted black;border-radius: 0.25em;box-sizing: border-box;margin-bottom: 0.5em;}#sk-container-id-4 div.sk-estimator:hover {background-color: #d4ebff;}#sk-container-id-4 div.sk-parallel-item::after {content: \"\";width: 100%;border-bottom: 1px solid gray;flex-grow: 1;}#sk-container-id-4 div.sk-label:hover label.sk-toggleable__label {background-color: #d4ebff;}#sk-container-id-4 div.sk-serial::before {content: \"\";position: absolute;border-left: 1px solid gray;box-sizing: border-box;top: 0;bottom: 0;left: 50%;z-index: 0;}#sk-container-id-4 div.sk-serial {display: flex;flex-direction: column;align-items: center;background-color: white;padding-right: 0.2em;padding-left: 0.2em;position: relative;}#sk-container-id-4 div.sk-item {position: relative;z-index: 1;}#sk-container-id-4 div.sk-parallel {display: flex;align-items: stretch;justify-content: center;background-color: white;position: relative;}#sk-container-id-4 div.sk-item::before, #sk-container-id-4 div.sk-parallel-item::before {content: \"\";position: absolute;border-left: 1px solid gray;box-sizing: border-box;top: 0;bottom: 0;left: 50%;z-index: -1;}#sk-container-id-4 div.sk-parallel-item {display: flex;flex-direction: column;z-index: 1;position: relative;background-color: white;}#sk-container-id-4 div.sk-parallel-item:first-child::after {align-self: flex-end;width: 50%;}#sk-container-id-4 div.sk-parallel-item:last-child::after {align-self: flex-start;width: 50%;}#sk-container-id-4 div.sk-parallel-item:only-child::after {width: 0;}#sk-container-id-4 div.sk-dashed-wrapped {border: 1px dashed gray;margin: 0 0.4em 0.5em 0.4em;box-sizing: border-box;padding-bottom: 0.4em;background-color: white;}#sk-container-id-4 div.sk-label label {font-family: monospace;font-weight: bold;display: inline-block;line-height: 1.2em;}#sk-container-id-4 div.sk-label-container {text-align: center;}#sk-container-id-4 div.sk-container {/* jupyter's `normalize.less` sets `[hidden] { display: none; }` but bootstrap.min.css set `[hidden] { display: none !important; }` so we also need the `!important` here to be able to override the default hidden behavior on the sphinx rendered scikit-learn.org. See: https://github.com/scikit-learn/scikit-learn/issues/21755 */display: inline-block !important;position: relative;}#sk-container-id-4 div.sk-text-repr-fallback {display: none;}</style><div id=\"sk-container-id-4\" class=\"sk-top-container\"><div class=\"sk-text-repr-fallback\"><pre>SVC()</pre><b>In a Jupyter environment, please rerun this cell to show the HTML representation or trust the notebook. <br />On GitHub, the HTML representation is unable to render, please try loading this page with nbviewer.org.</b></div><div class=\"sk-container\" hidden><div class=\"sk-item\"><div class=\"sk-estimator sk-toggleable\"><input class=\"sk-toggleable__control sk-hidden--visually\" id=\"sk-estimator-id-4\" type=\"checkbox\" checked><label for=\"sk-estimator-id-4\" class=\"sk-toggleable__label sk-toggleable__label-arrow\">SVC</label><div class=\"sk-toggleable__content\"><pre>SVC()</pre></div></div></div></div></div>"
      ],
      "text/plain": [
       "SVC()"
      ]
     },
     "execution_count": 200,
     "metadata": {},
     "output_type": "execute_result"
    }
   ],
   "source": [
    "clf.fit(X_train_scaled, y_train)"
   ]
  },
  {
   "cell_type": "code",
   "execution_count": 201,
   "id": "90ea5ff5-b18a-4676-bb4e-79d6ac4531f1",
   "metadata": {},
   "outputs": [],
   "source": [
    "y_pred = clf.predict(X_test_scaled)"
   ]
  },
  {
   "cell_type": "code",
   "execution_count": 202,
   "id": "bf7f1b1c-9d26-416f-8225-ecc15955473f",
   "metadata": {},
   "outputs": [
    {
     "data": {
      "text/plain": [
       "array([1, 1, 1, 0, 1, 0, 1, 0, 1, 0, 0, 1, 0, 0, 0, 1, 1, 1, 0, 0, 0, 0,\n",
       "       1, 0, 0, 0, 0, 1, 0, 0, 1, 0, 1, 1])"
      ]
     },
     "execution_count": 202,
     "metadata": {},
     "output_type": "execute_result"
    }
   ],
   "source": [
    "y_pred"
   ]
  },
  {
   "cell_type": "code",
   "execution_count": 203,
   "id": "39a6c9c9-7db2-47a2-a30e-cb8db5130851",
   "metadata": {},
   "outputs": [
    {
     "name": "stdout",
     "output_type": "stream",
     "text": [
      "Accuracy: 0.79\n",
      "Precision: 0.73\n",
      "Recall: 0.79\n"
     ]
    }
   ],
   "source": [
    "from sklearn.metrics import accuracy_score, precision_score, recall_score\n",
    "\n",
    "print(f'Accuracy: {accuracy_score(y_test, y_pred):.2f}')\n",
    "print(f'Precision: {precision_score(y_test, y_pred):.2f}')\n",
    "print(f'Recall: {recall_score(y_test, y_pred):.2f}')"
   ]
  }
 ],
 "metadata": {
  "kernelspec": {
   "display_name": "ayoluluss2-CxxF7UsW",
   "language": "python",
   "name": "ayoluluss2-cxxf7usw"
  },
  "language_info": {
   "codemirror_mode": {
    "name": "ipython",
    "version": 3
   },
   "file_extension": ".py",
   "mimetype": "text/x-python",
   "name": "python",
   "nbconvert_exporter": "python",
   "pygments_lexer": "ipython3",
   "version": "3.10.7"
  }
 },
 "nbformat": 4,
 "nbformat_minor": 5
}
