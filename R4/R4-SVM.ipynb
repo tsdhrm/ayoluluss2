{
 "cells": [
  {
   "cell_type": "code",
   "execution_count": 3,
   "id": "a1dfcde5-dc47-4ced-9a9c-c20b5f66fbf6",
   "metadata": {},
   "outputs": [],
   "source": [
    "import pandas as pd\n",
    "import numpy as np"
   ]
  },
  {
   "cell_type": "code",
   "execution_count": 14,
   "id": "b81f4b6d-59d9-42ab-8bb1-8da10cac0d20",
   "metadata": {},
   "outputs": [],
   "source": [
    "from sklearn.model_selection import train_test_split\n",
    "from sklearn.preprocessing import StandardScaler\n",
    "from sklearn import svm\n",
    "from sklearn.metrics import accuracy_score, precision_score, recall_score"
   ]
  },
  {
   "cell_type": "code",
   "execution_count": 4,
   "id": "460302d3-3df8-43e7-85d4-41d0b55aef9e",
   "metadata": {},
   "outputs": [],
   "source": [
    "df = pd.read_csv('../exportedDataframe/a_features.csv')"
   ]
  },
  {
   "cell_type": "code",
   "execution_count": 5,
   "id": "963601ee-bcaf-4602-b46a-e26b752f81fc",
   "metadata": {},
   "outputs": [],
   "source": [
    "def read_dataframe(dataframe):\n",
    "    dfc = dataframe.copy(True)\n",
    "    dfc.drop('ImagesName', inplace=True, axis=1)\n",
    "    return dfc"
   ]
  },
  {
   "cell_type": "code",
   "execution_count": 6,
   "id": "60aa16a9-dd2f-49c9-afd2-83ee3ad3439b",
   "metadata": {},
   "outputs": [],
   "source": [
    "dfc = read_dataframe(df)"
   ]
  },
  {
   "cell_type": "code",
   "execution_count": 7,
   "id": "c58254d1-09ad-4c92-9c8c-bbbed89cf0f0",
   "metadata": {},
   "outputs": [
    {
     "data": {
      "text/html": [
       "<div>\n",
       "<style scoped>\n",
       "    .dataframe tbody tr th:only-of-type {\n",
       "        vertical-align: middle;\n",
       "    }\n",
       "\n",
       "    .dataframe tbody tr th {\n",
       "        vertical-align: top;\n",
       "    }\n",
       "\n",
       "    .dataframe thead th {\n",
       "        text-align: right;\n",
       "    }\n",
       "</style>\n",
       "<table border=\"1\" class=\"dataframe\">\n",
       "  <thead>\n",
       "    <tr style=\"text-align: right;\">\n",
       "      <th></th>\n",
       "      <th>CDR</th>\n",
       "      <th>VCDR</th>\n",
       "      <th>RDR</th>\n",
       "      <th>I</th>\n",
       "      <th>S</th>\n",
       "      <th>N</th>\n",
       "      <th>T</th>\n",
       "      <th>Labels</th>\n",
       "    </tr>\n",
       "  </thead>\n",
       "  <tbody>\n",
       "    <tr>\n",
       "      <th>0</th>\n",
       "      <td>0.543767</td>\n",
       "      <td>0.442765</td>\n",
       "      <td>0.116711</td>\n",
       "      <td>220</td>\n",
       "      <td>205</td>\n",
       "      <td>131</td>\n",
       "      <td>140</td>\n",
       "      <td>0</td>\n",
       "    </tr>\n",
       "    <tr>\n",
       "      <th>1</th>\n",
       "      <td>0.410188</td>\n",
       "      <td>0.344595</td>\n",
       "      <td>0.088472</td>\n",
       "      <td>193</td>\n",
       "      <td>226</td>\n",
       "      <td>112</td>\n",
       "      <td>188</td>\n",
       "      <td>0</td>\n",
       "    </tr>\n",
       "    <tr>\n",
       "      <th>2</th>\n",
       "      <td>0.431755</td>\n",
       "      <td>0.389447</td>\n",
       "      <td>0.231198</td>\n",
       "      <td>169</td>\n",
       "      <td>151</td>\n",
       "      <td>130</td>\n",
       "      <td>128</td>\n",
       "      <td>0</td>\n",
       "    </tr>\n",
       "    <tr>\n",
       "      <th>3</th>\n",
       "      <td>0.388740</td>\n",
       "      <td>0.375648</td>\n",
       "      <td>0.131367</td>\n",
       "      <td>171</td>\n",
       "      <td>173</td>\n",
       "      <td>109</td>\n",
       "      <td>180</td>\n",
       "      <td>0</td>\n",
       "    </tr>\n",
       "    <tr>\n",
       "      <th>4</th>\n",
       "      <td>0.408971</td>\n",
       "      <td>0.388471</td>\n",
       "      <td>0.147757</td>\n",
       "      <td>169</td>\n",
       "      <td>188</td>\n",
       "      <td>123</td>\n",
       "      <td>173</td>\n",
       "      <td>0</td>\n",
       "    </tr>\n",
       "    <tr>\n",
       "      <th>...</th>\n",
       "      <td>...</td>\n",
       "      <td>...</td>\n",
       "      <td>...</td>\n",
       "      <td>...</td>\n",
       "      <td>...</td>\n",
       "      <td>...</td>\n",
       "      <td>...</td>\n",
       "      <td>...</td>\n",
       "    </tr>\n",
       "    <tr>\n",
       "      <th>163</th>\n",
       "      <td>0.424157</td>\n",
       "      <td>0.399471</td>\n",
       "      <td>0.235955</td>\n",
       "      <td>149</td>\n",
       "      <td>144</td>\n",
       "      <td>133</td>\n",
       "      <td>122</td>\n",
       "      <td>1</td>\n",
       "    </tr>\n",
       "    <tr>\n",
       "      <th>164</th>\n",
       "      <td>0.447977</td>\n",
       "      <td>0.487421</td>\n",
       "      <td>0.167630</td>\n",
       "      <td>125</td>\n",
       "      <td>121</td>\n",
       "      <td>126</td>\n",
       "      <td>141</td>\n",
       "      <td>1</td>\n",
       "    </tr>\n",
       "    <tr>\n",
       "      <th>165</th>\n",
       "      <td>0.426710</td>\n",
       "      <td>0.454861</td>\n",
       "      <td>0.166124</td>\n",
       "      <td>120</td>\n",
       "      <td>101</td>\n",
       "      <td>110</td>\n",
       "      <td>122</td>\n",
       "      <td>1</td>\n",
       "    </tr>\n",
       "    <tr>\n",
       "      <th>166</th>\n",
       "      <td>0.345794</td>\n",
       "      <td>0.385417</td>\n",
       "      <td>0.233645</td>\n",
       "      <td>110</td>\n",
       "      <td>114</td>\n",
       "      <td>140</td>\n",
       "      <td>108</td>\n",
       "      <td>1</td>\n",
       "    </tr>\n",
       "    <tr>\n",
       "      <th>167</th>\n",
       "      <td>0.337176</td>\n",
       "      <td>0.362229</td>\n",
       "      <td>0.175793</td>\n",
       "      <td>167</td>\n",
       "      <td>157</td>\n",
       "      <td>3</td>\n",
       "      <td>166</td>\n",
       "      <td>1</td>\n",
       "    </tr>\n",
       "  </tbody>\n",
       "</table>\n",
       "<p>168 rows × 8 columns</p>\n",
       "</div>"
      ],
      "text/plain": [
       "          CDR      VCDR       RDR    I    S    N    T  Labels\n",
       "0    0.543767  0.442765  0.116711  220  205  131  140       0\n",
       "1    0.410188  0.344595  0.088472  193  226  112  188       0\n",
       "2    0.431755  0.389447  0.231198  169  151  130  128       0\n",
       "3    0.388740  0.375648  0.131367  171  173  109  180       0\n",
       "4    0.408971  0.388471  0.147757  169  188  123  173       0\n",
       "..        ...       ...       ...  ...  ...  ...  ...     ...\n",
       "163  0.424157  0.399471  0.235955  149  144  133  122       1\n",
       "164  0.447977  0.487421  0.167630  125  121  126  141       1\n",
       "165  0.426710  0.454861  0.166124  120  101  110  122       1\n",
       "166  0.345794  0.385417  0.233645  110  114  140  108       1\n",
       "167  0.337176  0.362229  0.175793  167  157    3  166       1\n",
       "\n",
       "[168 rows x 8 columns]"
      ]
     },
     "execution_count": 7,
     "metadata": {},
     "output_type": "execute_result"
    }
   ],
   "source": [
    "dfc"
   ]
  },
  {
   "cell_type": "code",
   "execution_count": 9,
   "id": "b7aecf04-ba5b-4f3b-a44b-650e58ba4324",
   "metadata": {},
   "outputs": [],
   "source": [
    "X = dfc.drop('Labels', axis=1)\n",
    "y = dfc['Labels']\n",
    "\n",
    "X_train, X_test, y_train, y_test = train_test_split(\n",
    "    X, y, \n",
    "    test_size=0.2, random_state=42\n",
    ")"
   ]
  },
  {
   "cell_type": "code",
   "execution_count": 12,
   "id": "3111fadd-6268-4185-ab88-d627871cdf16",
   "metadata": {},
   "outputs": [],
   "source": [
    "scaler = StandardScaler()\n",
    "X_train_scaled = scaler.fit_transform(X_train)\n",
    "X_test_scaled = scaler.transform(X_test)"
   ]
  },
  {
   "cell_type": "markdown",
   "id": "fb0b2e54-a548-41ca-86af-94bec6fae048",
   "metadata": {},
   "source": [
    "Kernel: linear, nonlinear, polynomial, radial basis function (RBF), and sigmoid"
   ]
  },
  {
   "cell_type": "markdown",
   "id": "c8da590a-f3db-4fcc-9c78-266c86906dde",
   "metadata": {},
   "source": [
    "# Trial 1: RBF (Gaussian)"
   ]
  },
  {
   "cell_type": "code",
   "execution_count": 16,
   "id": "06ad3083-a999-407b-ae82-5ad16b2018da",
   "metadata": {},
   "outputs": [],
   "source": [
    "clf = svm.SVC()\n",
    "clf.fit(X_train_scaled, y_train)\n",
    "y_pred = clf.predict(X_test_scaled)"
   ]
  },
  {
   "cell_type": "code",
   "execution_count": 17,
   "id": "744d2bda-388c-46ed-9a9d-715adf2b4e39",
   "metadata": {},
   "outputs": [
    {
     "name": "stdout",
     "output_type": "stream",
     "text": [
      "Accuracy: 0.82\n",
      "Precision: 0.72\n",
      "Recall: 0.93\n"
     ]
    }
   ],
   "source": [
    "print(f'Accuracy: {accuracy_score(y_test, y_pred):.2f}')\n",
    "print(f'Precision: {precision_score(y_test, y_pred):.2f}')\n",
    "print(f'Recall: {recall_score(y_test, y_pred):.2f}')"
   ]
  },
  {
   "cell_type": "markdown",
   "id": "8cfe6886-17cf-458b-a462-e74111a2efc6",
   "metadata": {},
   "source": [
    "# Trial 2: Polynomial"
   ]
  },
  {
   "cell_type": "code",
   "execution_count": 18,
   "id": "7c7ececa-0d48-435f-8af5-b69e41909c3c",
   "metadata": {},
   "outputs": [],
   "source": [
    "df = pd.read_csv('../exportedDataframe/a_features.csv')\n",
    "dfc = read_dataframe(df)"
   ]
  },
  {
   "cell_type": "code",
   "execution_count": 19,
   "id": "cf4e8a20-4110-4513-ab9a-6a2011b02bc4",
   "metadata": {},
   "outputs": [],
   "source": [
    "X = dfc.drop('Labels', axis=1)\n",
    "y = dfc['Labels']\n",
    "\n",
    "X_train, X_test, y_train, y_test = train_test_split(\n",
    "    X, y, \n",
    "    test_size=0.2, random_state=42\n",
    ")\n",
    "scaler = StandardScaler()\n",
    "X_train_scaled = scaler.fit_transform(X_train)\n",
    "X_test_scaled = scaler.transform(X_test)"
   ]
  },
  {
   "cell_type": "code",
   "execution_count": 21,
   "id": "4fd4f629-be65-44e6-b673-218b341af30a",
   "metadata": {},
   "outputs": [],
   "source": [
    "clf = svm.SVC(kernel='poly')\n",
    "clf.fit(X_train_scaled, y_train)\n",
    "y_pred = clf.predict(X_test_scaled)"
   ]
  },
  {
   "cell_type": "code",
   "execution_count": 22,
   "id": "6d2f1392-99c5-4cf5-b06e-666c52d1ff32",
   "metadata": {},
   "outputs": [
    {
     "name": "stdout",
     "output_type": "stream",
     "text": [
      "Accuracy: 0.53\n",
      "Precision: 0.46\n",
      "Recall: 0.86\n"
     ]
    }
   ],
   "source": [
    "print(f'Accuracy: {accuracy_score(y_test, y_pred):.2f}')\n",
    "print(f'Precision: {precision_score(y_test, y_pred):.2f}')\n",
    "print(f'Recall: {recall_score(y_test, y_pred):.2f}')"
   ]
  }
 ],
 "metadata": {
  "kernelspec": {
   "display_name": "segeralulus-2de6Tznz",
   "language": "python",
   "name": "segeralulus-2de6tznz"
  },
  "language_info": {
   "codemirror_mode": {
    "name": "ipython",
    "version": 3
   },
   "file_extension": ".py",
   "mimetype": "text/x-python",
   "name": "python",
   "nbconvert_exporter": "python",
   "pygments_lexer": "ipython3",
   "version": "3.10.4"
  }
 },
 "nbformat": 4,
 "nbformat_minor": 5
}
