{
 "cells": [
  {
   "cell_type": "markdown",
   "id": "c16d8683-8f67-458e-88a5-a3ef8ce15c77",
   "metadata": {},
   "source": [
    "# Forecasting Mark A"
   ]
  },
  {
   "cell_type": "markdown",
   "id": "fdb4f402-b9c4-46a6-a735-f5941c854aa2",
   "metadata": {},
   "source": [
    "## Read CSV"
   ]
  },
  {
   "cell_type": "code",
   "execution_count": 3,
   "id": "57aa0910-e88b-4dfb-9ee7-b4ce8ff9afd6",
   "metadata": {},
   "outputs": [],
   "source": [
    "import pandas as pd"
   ]
  },
  {
   "cell_type": "code",
   "execution_count": 4,
   "id": "68a20d84-0bf2-4510-87e0-ed7f69682f53",
   "metadata": {},
   "outputs": [],
   "source": [
    "df = pd.read_csv('/Users/teguhsatya/Dev/segeralulus/exportedDataframe/Dataframe.csv')"
   ]
  },
  {
   "cell_type": "code",
   "execution_count": 5,
   "id": "68d9d01c-92e6-4d92-b1ce-6a1fa339a574",
   "metadata": {},
   "outputs": [
    {
     "data": {
      "text/html": [
       "<div>\n",
       "<style scoped>\n",
       "    .dataframe tbody tr th:only-of-type {\n",
       "        vertical-align: middle;\n",
       "    }\n",
       "\n",
       "    .dataframe tbody tr th {\n",
       "        vertical-align: top;\n",
       "    }\n",
       "\n",
       "    .dataframe thead th {\n",
       "        text-align: right;\n",
       "    }\n",
       "</style>\n",
       "<table border=\"1\" class=\"dataframe\">\n",
       "  <thead>\n",
       "    <tr style=\"text-align: right;\">\n",
       "      <th></th>\n",
       "      <th>Unnamed: 0</th>\n",
       "      <th>Image</th>\n",
       "      <th>CDR</th>\n",
       "      <th>VCDR</th>\n",
       "      <th>RDR</th>\n",
       "      <th>I</th>\n",
       "      <th>S</th>\n",
       "      <th>N</th>\n",
       "      <th>T</th>\n",
       "      <th>Labels</th>\n",
       "    </tr>\n",
       "  </thead>\n",
       "  <tbody>\n",
       "    <tr>\n",
       "      <th>0</th>\n",
       "      <td>0</td>\n",
       "      <td>Negative1</td>\n",
       "      <td>0.554377</td>\n",
       "      <td>0.451404</td>\n",
       "      <td>0.370690</td>\n",
       "      <td>33135</td>\n",
       "      <td>18698</td>\n",
       "      <td>31520</td>\n",
       "      <td>19558</td>\n",
       "      <td>0</td>\n",
       "    </tr>\n",
       "    <tr>\n",
       "      <th>1</th>\n",
       "      <td>1</td>\n",
       "      <td>Negative10</td>\n",
       "      <td>0.410188</td>\n",
       "      <td>0.344595</td>\n",
       "      <td>0.086022</td>\n",
       "      <td>29075</td>\n",
       "      <td>12811</td>\n",
       "      <td>37523</td>\n",
       "      <td>32214</td>\n",
       "      <td>0</td>\n",
       "    </tr>\n",
       "    <tr>\n",
       "      <th>2</th>\n",
       "      <td>2</td>\n",
       "      <td>Negative11</td>\n",
       "      <td>0.442897</td>\n",
       "      <td>0.399497</td>\n",
       "      <td>0.828283</td>\n",
       "      <td>27617</td>\n",
       "      <td>20967</td>\n",
       "      <td>22958</td>\n",
       "      <td>21320</td>\n",
       "      <td>0</td>\n",
       "    </tr>\n",
       "    <tr>\n",
       "      <th>3</th>\n",
       "      <td>3</td>\n",
       "      <td>Negative12</td>\n",
       "      <td>0.399464</td>\n",
       "      <td>0.386010</td>\n",
       "      <td>0.423423</td>\n",
       "      <td>25742</td>\n",
       "      <td>13766</td>\n",
       "      <td>25725</td>\n",
       "      <td>30792</td>\n",
       "      <td>0</td>\n",
       "    </tr>\n",
       "    <tr>\n",
       "      <th>4</th>\n",
       "      <td>4</td>\n",
       "      <td>Negative13</td>\n",
       "      <td>0.419525</td>\n",
       "      <td>0.398496</td>\n",
       "      <td>0.452991</td>\n",
       "      <td>25063</td>\n",
       "      <td>16386</td>\n",
       "      <td>29246</td>\n",
       "      <td>28431</td>\n",
       "      <td>0</td>\n",
       "    </tr>\n",
       "  </tbody>\n",
       "</table>\n",
       "</div>"
      ],
      "text/plain": [
       "   Unnamed: 0       Image       CDR      VCDR       RDR      I      S      N  \\\n",
       "0           0   Negative1  0.554377  0.451404  0.370690  33135  18698  31520   \n",
       "1           1  Negative10  0.410188  0.344595  0.086022  29075  12811  37523   \n",
       "2           2  Negative11  0.442897  0.399497  0.828283  27617  20967  22958   \n",
       "3           3  Negative12  0.399464  0.386010  0.423423  25742  13766  25725   \n",
       "4           4  Negative13  0.419525  0.398496  0.452991  25063  16386  29246   \n",
       "\n",
       "       T  Labels  \n",
       "0  19558       0  \n",
       "1  32214       0  \n",
       "2  21320       0  \n",
       "3  30792       0  \n",
       "4  28431       0  "
      ]
     },
     "execution_count": 5,
     "metadata": {},
     "output_type": "execute_result"
    }
   ],
   "source": [
    "df.head(5)"
   ]
  },
  {
   "cell_type": "code",
   "execution_count": 6,
   "id": "38a2250e-8644-4cb6-b609-2f7551b8a95e",
   "metadata": {},
   "outputs": [],
   "source": [
    "df.drop(['Unnamed: 0', 'Image'], axis=1, inplace=True)"
   ]
  },
  {
   "cell_type": "code",
   "execution_count": 7,
   "id": "c46a5a62-b8fb-453e-9481-d174a611fb1f",
   "metadata": {},
   "outputs": [
    {
     "data": {
      "text/html": [
       "<div>\n",
       "<style scoped>\n",
       "    .dataframe tbody tr th:only-of-type {\n",
       "        vertical-align: middle;\n",
       "    }\n",
       "\n",
       "    .dataframe tbody tr th {\n",
       "        vertical-align: top;\n",
       "    }\n",
       "\n",
       "    .dataframe thead th {\n",
       "        text-align: right;\n",
       "    }\n",
       "</style>\n",
       "<table border=\"1\" class=\"dataframe\">\n",
       "  <thead>\n",
       "    <tr style=\"text-align: right;\">\n",
       "      <th></th>\n",
       "      <th>CDR</th>\n",
       "      <th>VCDR</th>\n",
       "      <th>RDR</th>\n",
       "      <th>I</th>\n",
       "      <th>S</th>\n",
       "      <th>N</th>\n",
       "      <th>T</th>\n",
       "      <th>Labels</th>\n",
       "    </tr>\n",
       "  </thead>\n",
       "  <tbody>\n",
       "    <tr>\n",
       "      <th>0</th>\n",
       "      <td>0.554377</td>\n",
       "      <td>0.451404</td>\n",
       "      <td>0.370690</td>\n",
       "      <td>33135</td>\n",
       "      <td>18698</td>\n",
       "      <td>31520</td>\n",
       "      <td>19558</td>\n",
       "      <td>0</td>\n",
       "    </tr>\n",
       "    <tr>\n",
       "      <th>1</th>\n",
       "      <td>0.410188</td>\n",
       "      <td>0.344595</td>\n",
       "      <td>0.086022</td>\n",
       "      <td>29075</td>\n",
       "      <td>12811</td>\n",
       "      <td>37523</td>\n",
       "      <td>32214</td>\n",
       "      <td>0</td>\n",
       "    </tr>\n",
       "    <tr>\n",
       "      <th>2</th>\n",
       "      <td>0.442897</td>\n",
       "      <td>0.399497</td>\n",
       "      <td>0.828283</td>\n",
       "      <td>27617</td>\n",
       "      <td>20967</td>\n",
       "      <td>22958</td>\n",
       "      <td>21320</td>\n",
       "      <td>0</td>\n",
       "    </tr>\n",
       "    <tr>\n",
       "      <th>3</th>\n",
       "      <td>0.399464</td>\n",
       "      <td>0.386010</td>\n",
       "      <td>0.423423</td>\n",
       "      <td>25742</td>\n",
       "      <td>13766</td>\n",
       "      <td>25725</td>\n",
       "      <td>30792</td>\n",
       "      <td>0</td>\n",
       "    </tr>\n",
       "    <tr>\n",
       "      <th>4</th>\n",
       "      <td>0.419525</td>\n",
       "      <td>0.398496</td>\n",
       "      <td>0.452991</td>\n",
       "      <td>25063</td>\n",
       "      <td>16386</td>\n",
       "      <td>29246</td>\n",
       "      <td>28431</td>\n",
       "      <td>0</td>\n",
       "    </tr>\n",
       "    <tr>\n",
       "      <th>...</th>\n",
       "      <td>...</td>\n",
       "      <td>...</td>\n",
       "      <td>...</td>\n",
       "      <td>...</td>\n",
       "      <td>...</td>\n",
       "      <td>...</td>\n",
       "      <td>...</td>\n",
       "      <td>...</td>\n",
       "    </tr>\n",
       "    <tr>\n",
       "      <th>163</th>\n",
       "      <td>0.446629</td>\n",
       "      <td>0.420635</td>\n",
       "      <td>0.875000</td>\n",
       "      <td>23323</td>\n",
       "      <td>21425</td>\n",
       "      <td>22061</td>\n",
       "      <td>19462</td>\n",
       "      <td>1</td>\n",
       "    </tr>\n",
       "    <tr>\n",
       "      <th>164</th>\n",
       "      <td>0.453757</td>\n",
       "      <td>0.493711</td>\n",
       "      <td>0.850746</td>\n",
       "      <td>16782</td>\n",
       "      <td>15414</td>\n",
       "      <td>15289</td>\n",
       "      <td>20100</td>\n",
       "      <td>1</td>\n",
       "    </tr>\n",
       "    <tr>\n",
       "      <th>165</th>\n",
       "      <td>0.433225</td>\n",
       "      <td>0.461806</td>\n",
       "      <td>1.961538</td>\n",
       "      <td>15463</td>\n",
       "      <td>13045</td>\n",
       "      <td>11422</td>\n",
       "      <td>15897</td>\n",
       "      <td>1</td>\n",
       "    </tr>\n",
       "    <tr>\n",
       "      <th>166</th>\n",
       "      <td>0.352025</td>\n",
       "      <td>0.392361</td>\n",
       "      <td>1.652174</td>\n",
       "      <td>14173</td>\n",
       "      <td>20013</td>\n",
       "      <td>14768</td>\n",
       "      <td>13778</td>\n",
       "      <td>1</td>\n",
       "    </tr>\n",
       "    <tr>\n",
       "      <th>167</th>\n",
       "      <td>0.348703</td>\n",
       "      <td>0.374613</td>\n",
       "      <td>0.651685</td>\n",
       "      <td>20509</td>\n",
       "      <td>15773</td>\n",
       "      <td>19508</td>\n",
       "      <td>21225</td>\n",
       "      <td>1</td>\n",
       "    </tr>\n",
       "  </tbody>\n",
       "</table>\n",
       "<p>168 rows × 8 columns</p>\n",
       "</div>"
      ],
      "text/plain": [
       "          CDR      VCDR       RDR      I      S      N      T  Labels\n",
       "0    0.554377  0.451404  0.370690  33135  18698  31520  19558       0\n",
       "1    0.410188  0.344595  0.086022  29075  12811  37523  32214       0\n",
       "2    0.442897  0.399497  0.828283  27617  20967  22958  21320       0\n",
       "3    0.399464  0.386010  0.423423  25742  13766  25725  30792       0\n",
       "4    0.419525  0.398496  0.452991  25063  16386  29246  28431       0\n",
       "..        ...       ...       ...    ...    ...    ...    ...     ...\n",
       "163  0.446629  0.420635  0.875000  23323  21425  22061  19462       1\n",
       "164  0.453757  0.493711  0.850746  16782  15414  15289  20100       1\n",
       "165  0.433225  0.461806  1.961538  15463  13045  11422  15897       1\n",
       "166  0.352025  0.392361  1.652174  14173  20013  14768  13778       1\n",
       "167  0.348703  0.374613  0.651685  20509  15773  19508  21225       1\n",
       "\n",
       "[168 rows x 8 columns]"
      ]
     },
     "execution_count": 7,
     "metadata": {},
     "output_type": "execute_result"
    }
   ],
   "source": [
    "df"
   ]
  },
  {
   "cell_type": "markdown",
   "id": "b771f406-e45e-4143-978b-cfafa570d14a",
   "metadata": {},
   "source": [
    "## Train-Test Splitting"
   ]
  },
  {
   "cell_type": "code",
   "execution_count": 8,
   "id": "8b4e2530-9a76-4108-b20c-afc2c09e5fab",
   "metadata": {},
   "outputs": [],
   "source": [
    "from sklearn.model_selection import train_test_split"
   ]
  },
  {
   "cell_type": "code",
   "execution_count": 9,
   "id": "a7c022ad-7bfc-4522-9b75-0753b2cd6173",
   "metadata": {},
   "outputs": [
    {
     "data": {
      "text/plain": [
       "Index(['CDR', 'VCDR', 'RDR', 'I', 'S', 'N', 'T', 'Labels'], dtype='object')"
      ]
     },
     "execution_count": 9,
     "metadata": {},
     "output_type": "execute_result"
    }
   ],
   "source": [
    "df.columns"
   ]
  },
  {
   "cell_type": "code",
   "execution_count": 26,
   "id": "c0736e13-c2dd-4ca3-95cb-7c0f1609f589",
   "metadata": {},
   "outputs": [],
   "source": [
    "X = df[['CDR', 'VCDR', 'RDR']]\n",
    "# X = df[['CDR', 'VCDR', 'RDR']]"
   ]
  },
  {
   "cell_type": "code",
   "execution_count": 27,
   "id": "2818f7e7-a0b7-4d77-980b-38271db310c2",
   "metadata": {},
   "outputs": [],
   "source": [
    "# X = X.values"
   ]
  },
  {
   "cell_type": "code",
   "execution_count": 28,
   "id": "2ee394fc-59df-4df3-aa36-34a48bcb1c9a",
   "metadata": {},
   "outputs": [
    {
     "data": {
      "text/html": [
       "<div>\n",
       "<style scoped>\n",
       "    .dataframe tbody tr th:only-of-type {\n",
       "        vertical-align: middle;\n",
       "    }\n",
       "\n",
       "    .dataframe tbody tr th {\n",
       "        vertical-align: top;\n",
       "    }\n",
       "\n",
       "    .dataframe thead th {\n",
       "        text-align: right;\n",
       "    }\n",
       "</style>\n",
       "<table border=\"1\" class=\"dataframe\">\n",
       "  <thead>\n",
       "    <tr style=\"text-align: right;\">\n",
       "      <th></th>\n",
       "      <th>CDR</th>\n",
       "      <th>VCDR</th>\n",
       "      <th>RDR</th>\n",
       "    </tr>\n",
       "  </thead>\n",
       "  <tbody>\n",
       "    <tr>\n",
       "      <th>0</th>\n",
       "      <td>0.554377</td>\n",
       "      <td>0.451404</td>\n",
       "      <td>0.370690</td>\n",
       "    </tr>\n",
       "    <tr>\n",
       "      <th>1</th>\n",
       "      <td>0.410188</td>\n",
       "      <td>0.344595</td>\n",
       "      <td>0.086022</td>\n",
       "    </tr>\n",
       "    <tr>\n",
       "      <th>2</th>\n",
       "      <td>0.442897</td>\n",
       "      <td>0.399497</td>\n",
       "      <td>0.828283</td>\n",
       "    </tr>\n",
       "    <tr>\n",
       "      <th>3</th>\n",
       "      <td>0.399464</td>\n",
       "      <td>0.386010</td>\n",
       "      <td>0.423423</td>\n",
       "    </tr>\n",
       "    <tr>\n",
       "      <th>4</th>\n",
       "      <td>0.419525</td>\n",
       "      <td>0.398496</td>\n",
       "      <td>0.452991</td>\n",
       "    </tr>\n",
       "    <tr>\n",
       "      <th>...</th>\n",
       "      <td>...</td>\n",
       "      <td>...</td>\n",
       "      <td>...</td>\n",
       "    </tr>\n",
       "    <tr>\n",
       "      <th>163</th>\n",
       "      <td>0.446629</td>\n",
       "      <td>0.420635</td>\n",
       "      <td>0.875000</td>\n",
       "    </tr>\n",
       "    <tr>\n",
       "      <th>164</th>\n",
       "      <td>0.453757</td>\n",
       "      <td>0.493711</td>\n",
       "      <td>0.850746</td>\n",
       "    </tr>\n",
       "    <tr>\n",
       "      <th>165</th>\n",
       "      <td>0.433225</td>\n",
       "      <td>0.461806</td>\n",
       "      <td>1.961538</td>\n",
       "    </tr>\n",
       "    <tr>\n",
       "      <th>166</th>\n",
       "      <td>0.352025</td>\n",
       "      <td>0.392361</td>\n",
       "      <td>1.652174</td>\n",
       "    </tr>\n",
       "    <tr>\n",
       "      <th>167</th>\n",
       "      <td>0.348703</td>\n",
       "      <td>0.374613</td>\n",
       "      <td>0.651685</td>\n",
       "    </tr>\n",
       "  </tbody>\n",
       "</table>\n",
       "<p>168 rows × 3 columns</p>\n",
       "</div>"
      ],
      "text/plain": [
       "          CDR      VCDR       RDR\n",
       "0    0.554377  0.451404  0.370690\n",
       "1    0.410188  0.344595  0.086022\n",
       "2    0.442897  0.399497  0.828283\n",
       "3    0.399464  0.386010  0.423423\n",
       "4    0.419525  0.398496  0.452991\n",
       "..        ...       ...       ...\n",
       "163  0.446629  0.420635  0.875000\n",
       "164  0.453757  0.493711  0.850746\n",
       "165  0.433225  0.461806  1.961538\n",
       "166  0.352025  0.392361  1.652174\n",
       "167  0.348703  0.374613  0.651685\n",
       "\n",
       "[168 rows x 3 columns]"
      ]
     },
     "execution_count": 28,
     "metadata": {},
     "output_type": "execute_result"
    }
   ],
   "source": [
    "X"
   ]
  },
  {
   "cell_type": "code",
   "execution_count": 29,
   "id": "874827a9-a3cc-4e37-ae65-d6b75726c672",
   "metadata": {},
   "outputs": [],
   "source": [
    "y = df['Labels']"
   ]
  },
  {
   "cell_type": "code",
   "execution_count": 30,
   "id": "6e8b96cd-306f-4a45-8ccb-8001e1c8213f",
   "metadata": {},
   "outputs": [],
   "source": [
    "# y = y.values"
   ]
  },
  {
   "cell_type": "code",
   "execution_count": 31,
   "id": "acbef980-802b-4160-9035-ef7ca1e28a5e",
   "metadata": {},
   "outputs": [
    {
     "data": {
      "text/plain": [
       "pandas.core.series.Series"
      ]
     },
     "execution_count": 31,
     "metadata": {},
     "output_type": "execute_result"
    }
   ],
   "source": [
    "type(y)"
   ]
  },
  {
   "cell_type": "code",
   "execution_count": 32,
   "id": "bc02c779-8c4b-4845-8d7b-ebdbb8852166",
   "metadata": {},
   "outputs": [],
   "source": [
    "X_train, X_test, y_train, y_test = train_test_split(X, y, \n",
    "                                                    test_size=0.3, random_state=42)"
   ]
  },
  {
   "cell_type": "code",
   "execution_count": 33,
   "id": "a0fc560e-1a28-4d5f-abcd-faa33d7bea0f",
   "metadata": {},
   "outputs": [
    {
     "name": "stdout",
     "output_type": "stream",
     "text": [
      "(117, 3) (51, 3)\n"
     ]
    }
   ],
   "source": [
    "print(X_train.shape, X_test.shape)"
   ]
  },
  {
   "cell_type": "code",
   "execution_count": 34,
   "id": "3eb74197-1212-4e94-8509-58b20e3324b2",
   "metadata": {},
   "outputs": [
    {
     "name": "stdout",
     "output_type": "stream",
     "text": [
      "(117,) (51,)\n"
     ]
    }
   ],
   "source": [
    "print(y_train.shape, y_test.shape)"
   ]
  },
  {
   "cell_type": "markdown",
   "id": "11d82f93-8e03-4be4-b798-24c06c209ee1",
   "metadata": {},
   "source": [
    "## Min Max Normalization"
   ]
  },
  {
   "cell_type": "code",
   "execution_count": 184,
   "id": "25ddea8d-5e32-46ba-9909-8c10c783f243",
   "metadata": {},
   "outputs": [],
   "source": [
    "from sklearn.preprocessing import MinMaxScaler"
   ]
  },
  {
   "cell_type": "code",
   "execution_count": 185,
   "id": "f1f9d8eb-b8bd-4429-98cd-1862c7d7ba37",
   "metadata": {},
   "outputs": [],
   "source": [
    "scaler = MinMaxScaler()"
   ]
  },
  {
   "cell_type": "code",
   "execution_count": 186,
   "id": "651934b0-622e-45b7-a719-7b4f1be86a13",
   "metadata": {},
   "outputs": [
    {
     "data": {
      "text/html": [
       "<style>#sk-container-id-7 {color: black;background-color: white;}#sk-container-id-7 pre{padding: 0;}#sk-container-id-7 div.sk-toggleable {background-color: white;}#sk-container-id-7 label.sk-toggleable__label {cursor: pointer;display: block;width: 100%;margin-bottom: 0;padding: 0.3em;box-sizing: border-box;text-align: center;}#sk-container-id-7 label.sk-toggleable__label-arrow:before {content: \"▸\";float: left;margin-right: 0.25em;color: #696969;}#sk-container-id-7 label.sk-toggleable__label-arrow:hover:before {color: black;}#sk-container-id-7 div.sk-estimator:hover label.sk-toggleable__label-arrow:before {color: black;}#sk-container-id-7 div.sk-toggleable__content {max-height: 0;max-width: 0;overflow: hidden;text-align: left;background-color: #f0f8ff;}#sk-container-id-7 div.sk-toggleable__content pre {margin: 0.2em;color: black;border-radius: 0.25em;background-color: #f0f8ff;}#sk-container-id-7 input.sk-toggleable__control:checked~div.sk-toggleable__content {max-height: 200px;max-width: 100%;overflow: auto;}#sk-container-id-7 input.sk-toggleable__control:checked~label.sk-toggleable__label-arrow:before {content: \"▾\";}#sk-container-id-7 div.sk-estimator input.sk-toggleable__control:checked~label.sk-toggleable__label {background-color: #d4ebff;}#sk-container-id-7 div.sk-label input.sk-toggleable__control:checked~label.sk-toggleable__label {background-color: #d4ebff;}#sk-container-id-7 input.sk-hidden--visually {border: 0;clip: rect(1px 1px 1px 1px);clip: rect(1px, 1px, 1px, 1px);height: 1px;margin: -1px;overflow: hidden;padding: 0;position: absolute;width: 1px;}#sk-container-id-7 div.sk-estimator {font-family: monospace;background-color: #f0f8ff;border: 1px dotted black;border-radius: 0.25em;box-sizing: border-box;margin-bottom: 0.5em;}#sk-container-id-7 div.sk-estimator:hover {background-color: #d4ebff;}#sk-container-id-7 div.sk-parallel-item::after {content: \"\";width: 100%;border-bottom: 1px solid gray;flex-grow: 1;}#sk-container-id-7 div.sk-label:hover label.sk-toggleable__label {background-color: #d4ebff;}#sk-container-id-7 div.sk-serial::before {content: \"\";position: absolute;border-left: 1px solid gray;box-sizing: border-box;top: 0;bottom: 0;left: 50%;z-index: 0;}#sk-container-id-7 div.sk-serial {display: flex;flex-direction: column;align-items: center;background-color: white;padding-right: 0.2em;padding-left: 0.2em;position: relative;}#sk-container-id-7 div.sk-item {position: relative;z-index: 1;}#sk-container-id-7 div.sk-parallel {display: flex;align-items: stretch;justify-content: center;background-color: white;position: relative;}#sk-container-id-7 div.sk-item::before, #sk-container-id-7 div.sk-parallel-item::before {content: \"\";position: absolute;border-left: 1px solid gray;box-sizing: border-box;top: 0;bottom: 0;left: 50%;z-index: -1;}#sk-container-id-7 div.sk-parallel-item {display: flex;flex-direction: column;z-index: 1;position: relative;background-color: white;}#sk-container-id-7 div.sk-parallel-item:first-child::after {align-self: flex-end;width: 50%;}#sk-container-id-7 div.sk-parallel-item:last-child::after {align-self: flex-start;width: 50%;}#sk-container-id-7 div.sk-parallel-item:only-child::after {width: 0;}#sk-container-id-7 div.sk-dashed-wrapped {border: 1px dashed gray;margin: 0 0.4em 0.5em 0.4em;box-sizing: border-box;padding-bottom: 0.4em;background-color: white;}#sk-container-id-7 div.sk-label label {font-family: monospace;font-weight: bold;display: inline-block;line-height: 1.2em;}#sk-container-id-7 div.sk-label-container {text-align: center;}#sk-container-id-7 div.sk-container {/* jupyter's `normalize.less` sets `[hidden] { display: none; }` but bootstrap.min.css set `[hidden] { display: none !important; }` so we also need the `!important` here to be able to override the default hidden behavior on the sphinx rendered scikit-learn.org. See: https://github.com/scikit-learn/scikit-learn/issues/21755 */display: inline-block !important;position: relative;}#sk-container-id-7 div.sk-text-repr-fallback {display: none;}</style><div id=\"sk-container-id-7\" class=\"sk-top-container\"><div class=\"sk-text-repr-fallback\"><pre>MinMaxScaler()</pre><b>In a Jupyter environment, please rerun this cell to show the HTML representation or trust the notebook. <br />On GitHub, the HTML representation is unable to render, please try loading this page with nbviewer.org.</b></div><div class=\"sk-container\" hidden><div class=\"sk-item\"><div class=\"sk-estimator sk-toggleable\"><input class=\"sk-toggleable__control sk-hidden--visually\" id=\"sk-estimator-id-7\" type=\"checkbox\" checked><label for=\"sk-estimator-id-7\" class=\"sk-toggleable__label sk-toggleable__label-arrow\">MinMaxScaler</label><div class=\"sk-toggleable__content\"><pre>MinMaxScaler()</pre></div></div></div></div></div>"
      ],
      "text/plain": [
       "MinMaxScaler()"
      ]
     },
     "execution_count": 186,
     "metadata": {},
     "output_type": "execute_result"
    }
   ],
   "source": [
    "scaler.fit(X_train)"
   ]
  },
  {
   "cell_type": "code",
   "execution_count": 187,
   "id": "afd47739-5f82-4807-b675-d4a109495908",
   "metadata": {},
   "outputs": [],
   "source": [
    "X_train = scaler.transform(X_train)\n",
    "X_test = scaler.transform(X_test)"
   ]
  },
  {
   "cell_type": "code",
   "execution_count": 188,
   "id": "cd728437-c7cb-44a8-b0e1-d7cc7be6e9ca",
   "metadata": {},
   "outputs": [
    {
     "data": {
      "text/plain": [
       "1.0"
      ]
     },
     "execution_count": 188,
     "metadata": {},
     "output_type": "execute_result"
    }
   ],
   "source": [
    "X_train.max()"
   ]
  },
  {
   "cell_type": "code",
   "execution_count": 189,
   "id": "4565a930-6da4-4df1-92b0-8e568452087c",
   "metadata": {},
   "outputs": [
    {
     "data": {
      "text/plain": [
       "1.1716843743395646"
      ]
     },
     "execution_count": 189,
     "metadata": {},
     "output_type": "execute_result"
    }
   ],
   "source": [
    "X_test.max()"
   ]
  },
  {
   "cell_type": "markdown",
   "id": "3748f074-5154-4991-8e54-34a620414aa0",
   "metadata": {},
   "source": [
    "## MLP"
   ]
  },
  {
   "cell_type": "markdown",
   "id": "3a431544-2e03-4f05-90dd-1f31f2820fd1",
   "metadata": {},
   "source": [
    "### Trial 1: (4,5,3)"
   ]
  },
  {
   "cell_type": "code",
   "execution_count": 190,
   "id": "8bc98cf8-b86d-4cf5-859c-aa2daefffff2",
   "metadata": {},
   "outputs": [],
   "source": [
    "import tensorflow as tf"
   ]
  },
  {
   "cell_type": "code",
   "execution_count": 193,
   "id": "67043a15-2259-4793-922d-a25bdec691fa",
   "metadata": {},
   "outputs": [],
   "source": [
    "model = tf.keras.models.Sequential()\n",
    "model.add(tf.keras.layers.Dense(10, activation='relu'))\n",
    "model.add(tf.keras.layers.Dense(8, activation='relu'))\n",
    "model.add(tf.keras.layers.Dense(7, activation='relu'))\n",
    "model.add(tf.keras.layers.Dense(1, activation='sigmoid'))\n",
    "\n",
    "model.compile(optimizer='rmsprop',\n",
    "              loss='binary_crossentropy',\n",
    "              metrics=['accuracy'])"
   ]
  },
  {
   "cell_type": "code",
   "execution_count": 194,
   "id": "e1e4cc4c-6dc4-436c-8b96-40179233a934",
   "metadata": {},
   "outputs": [
    {
     "name": "stdout",
     "output_type": "stream",
     "text": [
      "Epoch 1/150\n",
      "4/4 [==============================] - 1s 2ms/step - loss: 0.6911 - accuracy: 0.5043\n",
      "Epoch 2/150\n",
      "4/4 [==============================] - 0s 5ms/step - loss: 0.6891 - accuracy: 0.5043\n",
      "Epoch 3/150\n",
      "4/4 [==============================] - 0s 5ms/step - loss: 0.6887 - accuracy: 0.5128\n",
      "Epoch 4/150\n",
      "4/4 [==============================] - 0s 4ms/step - loss: 0.6874 - accuracy: 0.5128\n",
      "Epoch 5/150\n",
      "4/4 [==============================] - 0s 4ms/step - loss: 0.6865 - accuracy: 0.5128\n",
      "Epoch 6/150\n",
      "4/4 [==============================] - 0s 3ms/step - loss: 0.6853 - accuracy: 0.5641\n",
      "Epoch 7/150\n",
      "4/4 [==============================] - 0s 3ms/step - loss: 0.6850 - accuracy: 0.5385\n",
      "Epoch 8/150\n",
      "4/4 [==============================] - 0s 3ms/step - loss: 0.6843 - accuracy: 0.5385\n",
      "Epoch 9/150\n",
      "4/4 [==============================] - 0s 2ms/step - loss: 0.6828 - accuracy: 0.5385\n",
      "Epoch 10/150\n",
      "4/4 [==============================] - 0s 2ms/step - loss: 0.6818 - accuracy: 0.5470\n",
      "Epoch 11/150\n",
      "4/4 [==============================] - 0s 3ms/step - loss: 0.6812 - accuracy: 0.5556\n",
      "Epoch 12/150\n",
      "4/4 [==============================] - 0s 3ms/step - loss: 0.6807 - accuracy: 0.5726\n",
      "Epoch 13/150\n",
      "4/4 [==============================] - 0s 2ms/step - loss: 0.6803 - accuracy: 0.5812\n",
      "Epoch 14/150\n",
      "4/4 [==============================] - 0s 2ms/step - loss: 0.6794 - accuracy: 0.5897\n",
      "Epoch 15/150\n",
      "4/4 [==============================] - 0s 2ms/step - loss: 0.6796 - accuracy: 0.5726\n",
      "Epoch 16/150\n",
      "4/4 [==============================] - 0s 2ms/step - loss: 0.6784 - accuracy: 0.5726\n",
      "Epoch 17/150\n",
      "4/4 [==============================] - 0s 2ms/step - loss: 0.6776 - accuracy: 0.6068\n",
      "Epoch 18/150\n",
      "4/4 [==============================] - 0s 2ms/step - loss: 0.6773 - accuracy: 0.5726\n",
      "Epoch 19/150\n",
      "4/4 [==============================] - 0s 2ms/step - loss: 0.6768 - accuracy: 0.5726\n",
      "Epoch 20/150\n",
      "4/4 [==============================] - 0s 2ms/step - loss: 0.6764 - accuracy: 0.6154\n",
      "Epoch 21/150\n",
      "4/4 [==============================] - 0s 2ms/step - loss: 0.6755 - accuracy: 0.5897\n",
      "Epoch 22/150\n",
      "4/4 [==============================] - 0s 2ms/step - loss: 0.6747 - accuracy: 0.5983\n",
      "Epoch 23/150\n",
      "4/4 [==============================] - 0s 2ms/step - loss: 0.6738 - accuracy: 0.6154\n",
      "Epoch 24/150\n",
      "4/4 [==============================] - 0s 2ms/step - loss: 0.6734 - accuracy: 0.6154\n",
      "Epoch 25/150\n",
      "4/4 [==============================] - 0s 2ms/step - loss: 0.6727 - accuracy: 0.6154\n",
      "Epoch 26/150\n",
      "4/4 [==============================] - 0s 2ms/step - loss: 0.6721 - accuracy: 0.6325\n",
      "Epoch 27/150\n",
      "4/4 [==============================] - 0s 2ms/step - loss: 0.6710 - accuracy: 0.6154\n",
      "Epoch 28/150\n",
      "4/4 [==============================] - 0s 2ms/step - loss: 0.6701 - accuracy: 0.6410\n",
      "Epoch 29/150\n",
      "4/4 [==============================] - 0s 2ms/step - loss: 0.6696 - accuracy: 0.6068\n",
      "Epoch 30/150\n",
      "4/4 [==============================] - 0s 2ms/step - loss: 0.6684 - accuracy: 0.6410\n",
      "Epoch 31/150\n",
      "4/4 [==============================] - 0s 2ms/step - loss: 0.6678 - accuracy: 0.6410\n",
      "Epoch 32/150\n",
      "4/4 [==============================] - 0s 2ms/step - loss: 0.6671 - accuracy: 0.6410\n",
      "Epoch 33/150\n",
      "4/4 [==============================] - 0s 1ms/step - loss: 0.6663 - accuracy: 0.6325\n",
      "Epoch 34/150\n",
      "4/4 [==============================] - 0s 2ms/step - loss: 0.6652 - accuracy: 0.6325\n",
      "Epoch 35/150\n",
      "4/4 [==============================] - 0s 1ms/step - loss: 0.6649 - accuracy: 0.6325\n",
      "Epoch 36/150\n",
      "4/4 [==============================] - 0s 2ms/step - loss: 0.6635 - accuracy: 0.6496\n",
      "Epoch 37/150\n",
      "4/4 [==============================] - 0s 2ms/step - loss: 0.6625 - accuracy: 0.6496\n",
      "Epoch 38/150\n",
      "4/4 [==============================] - 0s 2ms/step - loss: 0.6620 - accuracy: 0.6410\n",
      "Epoch 39/150\n",
      "4/4 [==============================] - 0s 2ms/step - loss: 0.6607 - accuracy: 0.6581\n",
      "Epoch 40/150\n",
      "4/4 [==============================] - 0s 2ms/step - loss: 0.6602 - accuracy: 0.6496\n",
      "Epoch 41/150\n",
      "4/4 [==============================] - 0s 2ms/step - loss: 0.6588 - accuracy: 0.6581\n",
      "Epoch 42/150\n",
      "4/4 [==============================] - 0s 2ms/step - loss: 0.6577 - accuracy: 0.6496\n",
      "Epoch 43/150\n",
      "4/4 [==============================] - 0s 2ms/step - loss: 0.6586 - accuracy: 0.6496\n",
      "Epoch 44/150\n",
      "4/4 [==============================] - 0s 2ms/step - loss: 0.6558 - accuracy: 0.6581\n",
      "Epoch 45/150\n",
      "4/4 [==============================] - 0s 2ms/step - loss: 0.6555 - accuracy: 0.6581\n",
      "Epoch 46/150\n",
      "4/4 [==============================] - 0s 2ms/step - loss: 0.6540 - accuracy: 0.6496\n",
      "Epoch 47/150\n",
      "4/4 [==============================] - 0s 2ms/step - loss: 0.6539 - accuracy: 0.6410\n",
      "Epoch 48/150\n",
      "4/4 [==============================] - 0s 2ms/step - loss: 0.6531 - accuracy: 0.6239\n",
      "Epoch 49/150\n",
      "4/4 [==============================] - 0s 2ms/step - loss: 0.6523 - accuracy: 0.6154\n",
      "Epoch 50/150\n",
      "4/4 [==============================] - 0s 2ms/step - loss: 0.6509 - accuracy: 0.6410\n",
      "Epoch 51/150\n",
      "4/4 [==============================] - 0s 2ms/step - loss: 0.6499 - accuracy: 0.6325\n",
      "Epoch 52/150\n",
      "4/4 [==============================] - 0s 2ms/step - loss: 0.6500 - accuracy: 0.6410\n",
      "Epoch 53/150\n",
      "4/4 [==============================] - 0s 2ms/step - loss: 0.6479 - accuracy: 0.6239\n",
      "Epoch 54/150\n",
      "4/4 [==============================] - 0s 1ms/step - loss: 0.6479 - accuracy: 0.6325\n",
      "Epoch 55/150\n",
      "4/4 [==============================] - 0s 2ms/step - loss: 0.6464 - accuracy: 0.6325\n",
      "Epoch 56/150\n",
      "4/4 [==============================] - 0s 1ms/step - loss: 0.6458 - accuracy: 0.6410\n",
      "Epoch 57/150\n",
      "4/4 [==============================] - 0s 2ms/step - loss: 0.6461 - accuracy: 0.6410\n",
      "Epoch 58/150\n",
      "4/4 [==============================] - 0s 1ms/step - loss: 0.6440 - accuracy: 0.6410\n",
      "Epoch 59/150\n",
      "4/4 [==============================] - 0s 2ms/step - loss: 0.6433 - accuracy: 0.6410\n",
      "Epoch 60/150\n",
      "4/4 [==============================] - 0s 2ms/step - loss: 0.6418 - accuracy: 0.6496\n",
      "Epoch 61/150\n",
      "4/4 [==============================] - 0s 2ms/step - loss: 0.6425 - accuracy: 0.6325\n",
      "Epoch 62/150\n",
      "4/4 [==============================] - 0s 1ms/step - loss: 0.6407 - accuracy: 0.6239\n",
      "Epoch 63/150\n",
      "4/4 [==============================] - 0s 2ms/step - loss: 0.6401 - accuracy: 0.6410\n",
      "Epoch 64/150\n",
      "4/4 [==============================] - 0s 2ms/step - loss: 0.6396 - accuracy: 0.6325\n",
      "Epoch 65/150\n",
      "4/4 [==============================] - 0s 2ms/step - loss: 0.6373 - accuracy: 0.6239\n",
      "Epoch 66/150\n",
      "4/4 [==============================] - 0s 2ms/step - loss: 0.6369 - accuracy: 0.6581\n",
      "Epoch 67/150\n",
      "4/4 [==============================] - 0s 2ms/step - loss: 0.6363 - accuracy: 0.6496\n",
      "Epoch 68/150\n",
      "4/4 [==============================] - 0s 2ms/step - loss: 0.6360 - accuracy: 0.6239\n",
      "Epoch 69/150\n",
      "4/4 [==============================] - 0s 2ms/step - loss: 0.6352 - accuracy: 0.6581\n",
      "Epoch 70/150\n",
      "4/4 [==============================] - 0s 2ms/step - loss: 0.6346 - accuracy: 0.6667\n",
      "Epoch 71/150\n",
      "4/4 [==============================] - 0s 2ms/step - loss: 0.6332 - accuracy: 0.6667\n",
      "Epoch 72/150\n",
      "4/4 [==============================] - 0s 2ms/step - loss: 0.6328 - accuracy: 0.6581\n",
      "Epoch 73/150\n",
      "4/4 [==============================] - 0s 2ms/step - loss: 0.6310 - accuracy: 0.6667\n",
      "Epoch 74/150\n",
      "4/4 [==============================] - 0s 2ms/step - loss: 0.6328 - accuracy: 0.6581\n",
      "Epoch 75/150\n",
      "4/4 [==============================] - 0s 2ms/step - loss: 0.6296 - accuracy: 0.6581\n",
      "Epoch 76/150\n",
      "4/4 [==============================] - 0s 2ms/step - loss: 0.6293 - accuracy: 0.6496\n",
      "Epoch 77/150\n",
      "4/4 [==============================] - 0s 2ms/step - loss: 0.6289 - accuracy: 0.6410\n",
      "Epoch 78/150\n",
      "4/4 [==============================] - 0s 2ms/step - loss: 0.6271 - accuracy: 0.6581\n",
      "Epoch 79/150\n",
      "4/4 [==============================] - 0s 2ms/step - loss: 0.6266 - accuracy: 0.6496\n",
      "Epoch 80/150\n",
      "4/4 [==============================] - 0s 2ms/step - loss: 0.6274 - accuracy: 0.6325\n",
      "Epoch 81/150\n",
      "4/4 [==============================] - 0s 2ms/step - loss: 0.6249 - accuracy: 0.6752\n",
      "Epoch 82/150\n",
      "4/4 [==============================] - 0s 1ms/step - loss: 0.6248 - accuracy: 0.6581\n",
      "Epoch 83/150\n",
      "4/4 [==============================] - 0s 2ms/step - loss: 0.6236 - accuracy: 0.6410\n",
      "Epoch 84/150\n",
      "4/4 [==============================] - 0s 2ms/step - loss: 0.6238 - accuracy: 0.6410\n",
      "Epoch 85/150\n",
      "4/4 [==============================] - 0s 2ms/step - loss: 0.6220 - accuracy: 0.6752\n",
      "Epoch 86/150\n",
      "4/4 [==============================] - 0s 2ms/step - loss: 0.6205 - accuracy: 0.6496\n",
      "Epoch 87/150\n",
      "4/4 [==============================] - 0s 2ms/step - loss: 0.6202 - accuracy: 0.6667\n",
      "Epoch 88/150\n",
      "4/4 [==============================] - 0s 2ms/step - loss: 0.6199 - accuracy: 0.6667\n",
      "Epoch 89/150\n",
      "4/4 [==============================] - 0s 2ms/step - loss: 0.6197 - accuracy: 0.6752\n",
      "Epoch 90/150\n",
      "4/4 [==============================] - 0s 2ms/step - loss: 0.6175 - accuracy: 0.6838\n",
      "Epoch 91/150\n",
      "4/4 [==============================] - 0s 2ms/step - loss: 0.6181 - accuracy: 0.6838\n",
      "Epoch 92/150\n",
      "4/4 [==============================] - 0s 2ms/step - loss: 0.6155 - accuracy: 0.6581\n",
      "Epoch 93/150\n",
      "4/4 [==============================] - 0s 2ms/step - loss: 0.6150 - accuracy: 0.6923\n",
      "Epoch 94/150\n",
      "4/4 [==============================] - 0s 2ms/step - loss: 0.6141 - accuracy: 0.6752\n",
      "Epoch 95/150\n",
      "4/4 [==============================] - 0s 2ms/step - loss: 0.6134 - accuracy: 0.6667\n",
      "Epoch 96/150\n",
      "4/4 [==============================] - 0s 1ms/step - loss: 0.6119 - accuracy: 0.6752\n",
      "Epoch 97/150\n",
      "4/4 [==============================] - 0s 2ms/step - loss: 0.6136 - accuracy: 0.6752\n",
      "Epoch 98/150\n",
      "4/4 [==============================] - 0s 1ms/step - loss: 0.6120 - accuracy: 0.6667\n",
      "Epoch 99/150\n",
      "4/4 [==============================] - 0s 2ms/step - loss: 0.6100 - accuracy: 0.6838\n",
      "Epoch 100/150\n",
      "4/4 [==============================] - 0s 2ms/step - loss: 0.6097 - accuracy: 0.6752\n",
      "Epoch 101/150\n",
      "4/4 [==============================] - 0s 2ms/step - loss: 0.6096 - accuracy: 0.6581\n",
      "Epoch 102/150\n",
      "4/4 [==============================] - 0s 2ms/step - loss: 0.6081 - accuracy: 0.6752\n",
      "Epoch 103/150\n",
      "4/4 [==============================] - 0s 2ms/step - loss: 0.6094 - accuracy: 0.6838\n",
      "Epoch 104/150\n",
      "4/4 [==============================] - 0s 2ms/step - loss: 0.6073 - accuracy: 0.6838\n",
      "Epoch 105/150\n",
      "4/4 [==============================] - 0s 2ms/step - loss: 0.6061 - accuracy: 0.6752\n",
      "Epoch 106/150\n",
      "4/4 [==============================] - 0s 2ms/step - loss: 0.6059 - accuracy: 0.6752\n",
      "Epoch 107/150\n",
      "4/4 [==============================] - 0s 1ms/step - loss: 0.6050 - accuracy: 0.6752\n",
      "Epoch 108/150\n",
      "4/4 [==============================] - 0s 2ms/step - loss: 0.6051 - accuracy: 0.6752\n",
      "Epoch 109/150\n",
      "4/4 [==============================] - 0s 1ms/step - loss: 0.6028 - accuracy: 0.6752\n",
      "Epoch 110/150\n",
      "4/4 [==============================] - 0s 2ms/step - loss: 0.6044 - accuracy: 0.6752\n",
      "Epoch 111/150\n",
      "4/4 [==============================] - 0s 1ms/step - loss: 0.6021 - accuracy: 0.6667\n",
      "Epoch 112/150\n",
      "4/4 [==============================] - 0s 2ms/step - loss: 0.6011 - accuracy: 0.6752\n",
      "Epoch 113/150\n",
      "4/4 [==============================] - 0s 1ms/step - loss: 0.6030 - accuracy: 0.6667\n",
      "Epoch 114/150\n",
      "4/4 [==============================] - 0s 2ms/step - loss: 0.6000 - accuracy: 0.6752\n",
      "Epoch 115/150\n",
      "4/4 [==============================] - 0s 2ms/step - loss: 0.6003 - accuracy: 0.6581\n",
      "Epoch 116/150\n",
      "4/4 [==============================] - 0s 2ms/step - loss: 0.5990 - accuracy: 0.6581\n",
      "Epoch 117/150\n",
      "4/4 [==============================] - 0s 2ms/step - loss: 0.6008 - accuracy: 0.6752\n",
      "Epoch 118/150\n",
      "4/4 [==============================] - 0s 1ms/step - loss: 0.5979 - accuracy: 0.6752\n",
      "Epoch 119/150\n",
      "4/4 [==============================] - 0s 2ms/step - loss: 0.5990 - accuracy: 0.6752\n",
      "Epoch 120/150\n",
      "4/4 [==============================] - 0s 2ms/step - loss: 0.5981 - accuracy: 0.6752\n",
      "Epoch 121/150\n",
      "4/4 [==============================] - 0s 2ms/step - loss: 0.5971 - accuracy: 0.6667\n",
      "Epoch 122/150\n",
      "4/4 [==============================] - 0s 1ms/step - loss: 0.5966 - accuracy: 0.6752\n",
      "Epoch 123/150\n",
      "4/4 [==============================] - 0s 2ms/step - loss: 0.5978 - accuracy: 0.6667\n",
      "Epoch 124/150\n",
      "4/4 [==============================] - 0s 1ms/step - loss: 0.5946 - accuracy: 0.6752\n",
      "Epoch 125/150\n",
      "4/4 [==============================] - 0s 2ms/step - loss: 0.5958 - accuracy: 0.6667\n",
      "Epoch 126/150\n",
      "4/4 [==============================] - 0s 1ms/step - loss: 0.5948 - accuracy: 0.6752\n",
      "Epoch 127/150\n",
      "4/4 [==============================] - 0s 2ms/step - loss: 0.5940 - accuracy: 0.6581\n",
      "Epoch 128/150\n",
      "4/4 [==============================] - 0s 1ms/step - loss: 0.5925 - accuracy: 0.6752\n",
      "Epoch 129/150\n",
      "4/4 [==============================] - 0s 2ms/step - loss: 0.5938 - accuracy: 0.6581\n",
      "Epoch 130/150\n",
      "4/4 [==============================] - 0s 2ms/step - loss: 0.5935 - accuracy: 0.6752\n",
      "Epoch 131/150\n",
      "4/4 [==============================] - 0s 2ms/step - loss: 0.5913 - accuracy: 0.6752\n",
      "Epoch 132/150\n",
      "4/4 [==============================] - 0s 2ms/step - loss: 0.5926 - accuracy: 0.6667\n",
      "Epoch 133/150\n",
      "4/4 [==============================] - 0s 1ms/step - loss: 0.5909 - accuracy: 0.6752\n",
      "Epoch 134/150\n",
      "4/4 [==============================] - 0s 2ms/step - loss: 0.5914 - accuracy: 0.6667\n",
      "Epoch 135/150\n",
      "4/4 [==============================] - 0s 2ms/step - loss: 0.5895 - accuracy: 0.6667\n",
      "Epoch 136/150\n",
      "4/4 [==============================] - 0s 2ms/step - loss: 0.5888 - accuracy: 0.6752\n",
      "Epoch 137/150\n",
      "4/4 [==============================] - 0s 1ms/step - loss: 0.5891 - accuracy: 0.6581\n",
      "Epoch 138/150\n",
      "4/4 [==============================] - 0s 2ms/step - loss: 0.5880 - accuracy: 0.6667\n",
      "Epoch 139/150\n",
      "4/4 [==============================] - 0s 2ms/step - loss: 0.5877 - accuracy: 0.6667\n",
      "Epoch 140/150\n",
      "4/4 [==============================] - 0s 2ms/step - loss: 0.5872 - accuracy: 0.6667\n",
      "Epoch 141/150\n",
      "4/4 [==============================] - 0s 2ms/step - loss: 0.5885 - accuracy: 0.6581\n",
      "Epoch 142/150\n",
      "4/4 [==============================] - 0s 2ms/step - loss: 0.5876 - accuracy: 0.6581\n",
      "Epoch 143/150\n",
      "4/4 [==============================] - 0s 2ms/step - loss: 0.5871 - accuracy: 0.6410\n",
      "Epoch 144/150\n",
      "4/4 [==============================] - 0s 1ms/step - loss: 0.5863 - accuracy: 0.6581\n",
      "Epoch 145/150\n",
      "4/4 [==============================] - 0s 2ms/step - loss: 0.5847 - accuracy: 0.6581\n",
      "Epoch 146/150\n",
      "4/4 [==============================] - 0s 1ms/step - loss: 0.5839 - accuracy: 0.6496\n",
      "Epoch 147/150\n",
      "4/4 [==============================] - 0s 2ms/step - loss: 0.5874 - accuracy: 0.6496\n",
      "Epoch 148/150\n",
      "4/4 [==============================] - 0s 2ms/step - loss: 0.5868 - accuracy: 0.6496\n",
      "Epoch 149/150\n",
      "4/4 [==============================] - 0s 2ms/step - loss: 0.5833 - accuracy: 0.6496\n",
      "Epoch 150/150\n",
      "4/4 [==============================] - 0s 1ms/step - loss: 0.5845 - accuracy: 0.6410\n"
     ]
    },
    {
     "data": {
      "text/plain": [
       "<keras.callbacks.History at 0x13574b010>"
      ]
     },
     "execution_count": 194,
     "metadata": {},
     "output_type": "execute_result"
    }
   ],
   "source": [
    "model.fit(x=X_train, y=y_train, epochs=150)"
   ]
  },
  {
   "cell_type": "code",
   "execution_count": 195,
   "id": "be5a397a-4d52-42ae-9aaa-c88aaf3612a4",
   "metadata": {},
   "outputs": [
    {
     "name": "stdout",
     "output_type": "stream",
     "text": [
      "2/2 [==============================] - 0s 3ms/step - loss: 0.5049 - accuracy: 0.7647\n"
     ]
    },
    {
     "data": {
      "text/plain": [
       "[0.5048892498016357, 0.7647058963775635]"
      ]
     },
     "execution_count": 195,
     "metadata": {},
     "output_type": "execute_result"
    }
   ],
   "source": [
    "model.evaluate(X_test, y_test)"
   ]
  },
  {
   "cell_type": "code",
   "execution_count": 201,
   "id": "1e93e474-4e7f-4e34-99dd-5786c20b7a40",
   "metadata": {},
   "outputs": [
    {
     "name": "stdout",
     "output_type": "stream",
     "text": [
      "2/2 [==============================] - 0s 2ms/step\n"
     ]
    }
   ],
   "source": [
    "prediction = model.predict(X_test)"
   ]
  },
  {
   "cell_type": "code",
   "execution_count": 202,
   "id": "520f1d20-9441-47ac-a9ee-10343b15b660",
   "metadata": {},
   "outputs": [
    {
     "name": "stdout",
     "output_type": "stream",
     "text": [
      "[[0.8905745 ]\n",
      " [0.5921984 ]\n",
      " [0.7820128 ]\n",
      " [0.3214751 ]\n",
      " [0.77148557]\n",
      " [0.58856153]\n",
      " [0.5948079 ]\n",
      " [0.31014806]\n",
      " [0.6522045 ]\n",
      " [0.3170275 ]\n",
      " [0.32242143]\n",
      " [0.38493776]\n",
      " [0.43497196]\n",
      " [0.42065066]\n",
      " [0.44497323]\n",
      " [0.6628638 ]\n",
      " [0.29269823]\n",
      " [0.8979876 ]\n",
      " [0.39438412]\n",
      " [0.2980256 ]\n",
      " [0.3419478 ]\n",
      " [0.54761827]\n",
      " [0.6467956 ]\n",
      " [0.30110112]\n",
      " [0.4368741 ]\n",
      " [0.29728657]\n",
      " [0.39340207]\n",
      " [0.81726   ]\n",
      " [0.32200766]\n",
      " [0.3141052 ]\n",
      " [0.49592572]\n",
      " [0.30447605]\n",
      " [0.9236184 ]\n",
      " [0.7510245 ]\n",
      " [0.32373834]\n",
      " [0.7135268 ]\n",
      " [0.5352392 ]\n",
      " [0.6787492 ]\n",
      " [0.7882808 ]\n",
      " [0.7949957 ]\n",
      " [0.35953262]\n",
      " [0.4640764 ]\n",
      " [0.4034371 ]\n",
      " [0.5384198 ]\n",
      " [0.6588852 ]\n",
      " [0.49088234]\n",
      " [0.30895332]\n",
      " [0.5815861 ]\n",
      " [0.41477555]\n",
      " [0.36521378]\n",
      " [0.7214436 ]]\n"
     ]
    }
   ],
   "source": [
    "print(prediction)"
   ]
  },
  {
   "cell_type": "markdown",
   "id": "aa59672b-7ba9-478c-a09a-67e6bf7b920a",
   "metadata": {},
   "source": [
    "### SVM:"
   ]
  },
  {
   "cell_type": "code",
   "execution_count": 35,
   "id": "df1531f3-6446-425b-95c6-163c6ffe7fe5",
   "metadata": {},
   "outputs": [],
   "source": [
    "from sklearn import svm"
   ]
  },
  {
   "cell_type": "code",
   "execution_count": 36,
   "id": "bb9a6245-066a-4f37-b1ad-9f53efcb4ad6",
   "metadata": {},
   "outputs": [
    {
     "data": {
      "text/html": [
       "<style>#sk-container-id-2 {color: black;background-color: white;}#sk-container-id-2 pre{padding: 0;}#sk-container-id-2 div.sk-toggleable {background-color: white;}#sk-container-id-2 label.sk-toggleable__label {cursor: pointer;display: block;width: 100%;margin-bottom: 0;padding: 0.3em;box-sizing: border-box;text-align: center;}#sk-container-id-2 label.sk-toggleable__label-arrow:before {content: \"▸\";float: left;margin-right: 0.25em;color: #696969;}#sk-container-id-2 label.sk-toggleable__label-arrow:hover:before {color: black;}#sk-container-id-2 div.sk-estimator:hover label.sk-toggleable__label-arrow:before {color: black;}#sk-container-id-2 div.sk-toggleable__content {max-height: 0;max-width: 0;overflow: hidden;text-align: left;background-color: #f0f8ff;}#sk-container-id-2 div.sk-toggleable__content pre {margin: 0.2em;color: black;border-radius: 0.25em;background-color: #f0f8ff;}#sk-container-id-2 input.sk-toggleable__control:checked~div.sk-toggleable__content {max-height: 200px;max-width: 100%;overflow: auto;}#sk-container-id-2 input.sk-toggleable__control:checked~label.sk-toggleable__label-arrow:before {content: \"▾\";}#sk-container-id-2 div.sk-estimator input.sk-toggleable__control:checked~label.sk-toggleable__label {background-color: #d4ebff;}#sk-container-id-2 div.sk-label input.sk-toggleable__control:checked~label.sk-toggleable__label {background-color: #d4ebff;}#sk-container-id-2 input.sk-hidden--visually {border: 0;clip: rect(1px 1px 1px 1px);clip: rect(1px, 1px, 1px, 1px);height: 1px;margin: -1px;overflow: hidden;padding: 0;position: absolute;width: 1px;}#sk-container-id-2 div.sk-estimator {font-family: monospace;background-color: #f0f8ff;border: 1px dotted black;border-radius: 0.25em;box-sizing: border-box;margin-bottom: 0.5em;}#sk-container-id-2 div.sk-estimator:hover {background-color: #d4ebff;}#sk-container-id-2 div.sk-parallel-item::after {content: \"\";width: 100%;border-bottom: 1px solid gray;flex-grow: 1;}#sk-container-id-2 div.sk-label:hover label.sk-toggleable__label {background-color: #d4ebff;}#sk-container-id-2 div.sk-serial::before {content: \"\";position: absolute;border-left: 1px solid gray;box-sizing: border-box;top: 0;bottom: 0;left: 50%;z-index: 0;}#sk-container-id-2 div.sk-serial {display: flex;flex-direction: column;align-items: center;background-color: white;padding-right: 0.2em;padding-left: 0.2em;position: relative;}#sk-container-id-2 div.sk-item {position: relative;z-index: 1;}#sk-container-id-2 div.sk-parallel {display: flex;align-items: stretch;justify-content: center;background-color: white;position: relative;}#sk-container-id-2 div.sk-item::before, #sk-container-id-2 div.sk-parallel-item::before {content: \"\";position: absolute;border-left: 1px solid gray;box-sizing: border-box;top: 0;bottom: 0;left: 50%;z-index: -1;}#sk-container-id-2 div.sk-parallel-item {display: flex;flex-direction: column;z-index: 1;position: relative;background-color: white;}#sk-container-id-2 div.sk-parallel-item:first-child::after {align-self: flex-end;width: 50%;}#sk-container-id-2 div.sk-parallel-item:last-child::after {align-self: flex-start;width: 50%;}#sk-container-id-2 div.sk-parallel-item:only-child::after {width: 0;}#sk-container-id-2 div.sk-dashed-wrapped {border: 1px dashed gray;margin: 0 0.4em 0.5em 0.4em;box-sizing: border-box;padding-bottom: 0.4em;background-color: white;}#sk-container-id-2 div.sk-label label {font-family: monospace;font-weight: bold;display: inline-block;line-height: 1.2em;}#sk-container-id-2 div.sk-label-container {text-align: center;}#sk-container-id-2 div.sk-container {/* jupyter's `normalize.less` sets `[hidden] { display: none; }` but bootstrap.min.css set `[hidden] { display: none !important; }` so we also need the `!important` here to be able to override the default hidden behavior on the sphinx rendered scikit-learn.org. See: https://github.com/scikit-learn/scikit-learn/issues/21755 */display: inline-block !important;position: relative;}#sk-container-id-2 div.sk-text-repr-fallback {display: none;}</style><div id=\"sk-container-id-2\" class=\"sk-top-container\"><div class=\"sk-text-repr-fallback\"><pre>SVC()</pre><b>In a Jupyter environment, please rerun this cell to show the HTML representation or trust the notebook. <br />On GitHub, the HTML representation is unable to render, please try loading this page with nbviewer.org.</b></div><div class=\"sk-container\" hidden><div class=\"sk-item\"><div class=\"sk-estimator sk-toggleable\"><input class=\"sk-toggleable__control sk-hidden--visually\" id=\"sk-estimator-id-2\" type=\"checkbox\" checked><label for=\"sk-estimator-id-2\" class=\"sk-toggleable__label sk-toggleable__label-arrow\">SVC</label><div class=\"sk-toggleable__content\"><pre>SVC()</pre></div></div></div></div></div>"
      ],
      "text/plain": [
       "SVC()"
      ]
     },
     "execution_count": 36,
     "metadata": {},
     "output_type": "execute_result"
    }
   ],
   "source": [
    "clf = svm.SVC()\n",
    "clf.fit(X_train, y_train)"
   ]
  },
  {
   "cell_type": "code",
   "execution_count": 37,
   "id": "f9fbb5fa-8f70-4442-9a23-2b526096bcd1",
   "metadata": {},
   "outputs": [],
   "source": [
    "prediction = clf.predict(X_test)"
   ]
  },
  {
   "cell_type": "code",
   "execution_count": 38,
   "id": "fd624f87-0da2-4fc1-8ba6-a96729532937",
   "metadata": {},
   "outputs": [
    {
     "name": "stdout",
     "output_type": "stream",
     "text": [
      "[1 0 1 1 1 1 1 0 1 0 1 1 1 1 1 1 0 1 0 1 0 1 1 1 1 1 1 1 1 1 1 1 0 1 1 1 1\n",
      " 1 1 1 1 1 1 0 0 0 1 1 1 1 1]\n"
     ]
    }
   ],
   "source": [
    "print(prediction)"
   ]
  },
  {
   "cell_type": "code",
   "execution_count": 39,
   "id": "72c4cac3-4616-448a-81f8-9d958bcc5a8c",
   "metadata": {},
   "outputs": [
    {
     "name": "stdout",
     "output_type": "stream",
     "text": [
      "159    1\n",
      "96     1\n",
      "11     0\n",
      "67     0\n",
      "132    1\n",
      "      ..\n",
      "71     0\n",
      "106    1\n",
      "14     0\n",
      "92     1\n",
      "102    1\n",
      "Name: Labels, Length: 117, dtype: int64\n"
     ]
    }
   ],
   "source": [
    "print(y_train)"
   ]
  },
  {
   "cell_type": "code",
   "execution_count": 40,
   "id": "8eac0bd1-c60a-4005-8a01-26a2d869056d",
   "metadata": {},
   "outputs": [],
   "source": [
    "from sklearn.metrics import classification_report"
   ]
  },
  {
   "cell_type": "code",
   "execution_count": 41,
   "id": "e4bd51ae-0a0a-4313-bcb9-e880409fbd14",
   "metadata": {},
   "outputs": [
    {
     "name": "stdout",
     "output_type": "stream",
     "text": [
      "              precision    recall  f1-score   support\n",
      "\n",
      "           0       0.60      0.23      0.33        26\n",
      "           1       0.51      0.84      0.64        25\n",
      "\n",
      "    accuracy                           0.53        51\n",
      "   macro avg       0.56      0.54      0.48        51\n",
      "weighted avg       0.56      0.53      0.48        51\n",
      "\n"
     ]
    }
   ],
   "source": [
    "print(classification_report(y_test, prediction))"
   ]
  },
  {
   "cell_type": "code",
   "execution_count": 42,
   "id": "558d82e8-8709-4c61-a6ad-11f0e604c36d",
   "metadata": {},
   "outputs": [],
   "source": [
    "from sklearn.metrics import accuracy_score"
   ]
  },
  {
   "cell_type": "code",
   "execution_count": 43,
   "id": "a0f5fc0e-8e4b-4a93-a67d-5b3cf64e3fa8",
   "metadata": {},
   "outputs": [
    {
     "data": {
      "text/plain": [
       "0.53"
      ]
     },
     "execution_count": 43,
     "metadata": {},
     "output_type": "execute_result"
    }
   ],
   "source": [
    "round(accuracy_score(y_test, prediction), 2)"
   ]
  },
  {
   "cell_type": "markdown",
   "id": "981f09b5-3a5b-4f8c-b27a-cd24d7fbd6a4",
   "metadata": {},
   "source": [
    "### Trial 3: "
   ]
  },
  {
   "cell_type": "code",
   "execution_count": null,
   "id": "b63b77eb-8703-4993-a81a-b6019cfb1974",
   "metadata": {},
   "outputs": [],
   "source": []
  }
 ],
 "metadata": {
  "kernelspec": {
   "display_name": "segeralulus-2de6Tznz",
   "language": "python",
   "name": "segeralulus-2de6tznz"
  },
  "language_info": {
   "codemirror_mode": {
    "name": "ipython",
    "version": 3
   },
   "file_extension": ".py",
   "mimetype": "text/x-python",
   "name": "python",
   "nbconvert_exporter": "python",
   "pygments_lexer": "ipython3",
   "version": "3.10.4"
  }
 },
 "nbformat": 4,
 "nbformat_minor": 5
}
