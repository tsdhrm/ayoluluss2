{
 "cells": [
  {
   "cell_type": "markdown",
   "id": "02abb79b-3efe-4597-8b03-3e9960dca44b",
   "metadata": {},
   "source": [
    "# Q4 Mark a"
   ]
  },
  {
   "cell_type": "code",
   "execution_count": 2,
   "id": "e6d0348d-ba24-439e-89e3-20c666fe40da",
   "metadata": {},
   "outputs": [],
   "source": [
    "import numpy as np\n",
    "import cv2\n",
    "import matplotlib.pyplot as plt\n",
    "import shapely.geometry as shapgeo\n",
    "from copy import deepcopy"
   ]
  },
  {
   "cell_type": "code",
   "execution_count": null,
   "id": "ca940526-1ae9-45fb-9696-dcbef8a74519",
   "metadata": {},
   "outputs": [],
   "source": []
  }
 ],
 "metadata": {
  "kernelspec": {
   "display_name": "ayoluluss2-CxxF7UsW",
   "language": "python",
   "name": "ayoluluss2-cxxf7usw"
  },
  "language_info": {
   "codemirror_mode": {
    "name": "ipython",
    "version": 3
   },
   "file_extension": ".py",
   "mimetype": "text/x-python",
   "name": "python",
   "nbconvert_exporter": "python",
   "pygments_lexer": "ipython3",
   "version": "3.10.7"
  }
 },
 "nbformat": 4,
 "nbformat_minor": 5
}
