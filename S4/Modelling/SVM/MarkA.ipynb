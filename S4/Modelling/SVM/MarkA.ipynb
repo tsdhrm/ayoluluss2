{
 "cells": [
  {
   "cell_type": "markdown",
   "id": "3daae48f-e634-4a56-922a-91479803281d",
   "metadata": {},
   "source": [
    "# Trial 1"
   ]
  },
  {
   "cell_type": "code",
   "execution_count": 1,
   "id": "7b79ef13-cae6-4bf6-9bd5-a23299de444c",
   "metadata": {},
   "outputs": [
    {
     "name": "stderr",
     "output_type": "stream",
     "text": [
      "2022-10-30 16:10:33.469264: I tensorflow/core/platform/cpu_feature_guard.cc:193] This TensorFlow binary is optimized with oneAPI Deep Neural Network Library (oneDNN) to use the following CPU instructions in performance-critical operations:  AVX2 FMA\n",
      "To enable them in other operations, rebuild TensorFlow with the appropriate compiler flags.\n"
     ]
    }
   ],
   "source": [
    "import pandas as pd\n",
    "import tensorflow as tf\n",
    "import numpy as np\n",
    "import random"
   ]
  },
  {
   "cell_type": "code",
   "execution_count": 2,
   "id": "80a84524-3809-4be9-8513-a1e5f1f221d6",
   "metadata": {},
   "outputs": [],
   "source": [
    "tf.random.set_seed(21)\n",
    "random.seed(21)"
   ]
  },
  {
   "cell_type": "code",
   "execution_count": 3,
   "id": "1dec8981-b5da-4ab3-adaa-008a71789376",
   "metadata": {},
   "outputs": [],
   "source": [
    "from sklearn.model_selection import train_test_split\n",
    "from sklearn.preprocessing import StandardScaler\n",
    "from sklearn import svm\n",
    "from sklearn.metrics import accuracy_score, precision_score, recall_score"
   ]
  },
  {
   "cell_type": "code",
   "execution_count": 4,
   "id": "3aa0aafa-48c8-4da5-bf52-5a8c583b6b5d",
   "metadata": {},
   "outputs": [],
   "source": [
    "df = pd.read_csv('../src/Fex_b.csv')"
   ]
  },
  {
   "cell_type": "code",
   "execution_count": 5,
   "id": "271faec6-c2f8-4d10-ba56-d44b5c9232b0",
   "metadata": {},
   "outputs": [],
   "source": [
    "def read_dataframe(dataframe):\n",
    "    dfc = dataframe.copy(True)\n",
    "    dfc.drop('ImagesName', inplace=True, axis=1)\n",
    "    return dfc"
   ]
  },
  {
   "cell_type": "code",
   "execution_count": 6,
   "id": "60561b07-2526-4212-bca1-f7f8bc4284a1",
   "metadata": {},
   "outputs": [],
   "source": [
    "dfc = read_dataframe(df)"
   ]
  },
  {
   "cell_type": "code",
   "execution_count": 7,
   "id": "7c90f8cc-fa71-4c7e-a856-d3f867ae5342",
   "metadata": {},
   "outputs": [
    {
     "data": {
      "text/html": [
       "<div>\n",
       "<style scoped>\n",
       "    .dataframe tbody tr th:only-of-type {\n",
       "        vertical-align: middle;\n",
       "    }\n",
       "\n",
       "    .dataframe tbody tr th {\n",
       "        vertical-align: top;\n",
       "    }\n",
       "\n",
       "    .dataframe thead th {\n",
       "        text-align: right;\n",
       "    }\n",
       "</style>\n",
       "<table border=\"1\" class=\"dataframe\">\n",
       "  <thead>\n",
       "    <tr style=\"text-align: right;\">\n",
       "      <th></th>\n",
       "      <th>CDR</th>\n",
       "      <th>VCDR</th>\n",
       "      <th>RDR</th>\n",
       "      <th>I</th>\n",
       "      <th>S</th>\n",
       "      <th>N</th>\n",
       "      <th>T</th>\n",
       "      <th>Labels</th>\n",
       "    </tr>\n",
       "  </thead>\n",
       "  <tbody>\n",
       "    <tr>\n",
       "      <th>0</th>\n",
       "      <td>0.602564</td>\n",
       "      <td>0.470000</td>\n",
       "      <td>0.071795</td>\n",
       "      <td>236</td>\n",
       "      <td>218</td>\n",
       "      <td>130</td>\n",
       "      <td>133</td>\n",
       "      <td>0</td>\n",
       "    </tr>\n",
       "    <tr>\n",
       "      <th>1</th>\n",
       "      <td>0.493056</td>\n",
       "      <td>0.423459</td>\n",
       "      <td>0.060185</td>\n",
       "      <td>197</td>\n",
       "      <td>241</td>\n",
       "      <td>127</td>\n",
       "      <td>173</td>\n",
       "      <td>0</td>\n",
       "    </tr>\n",
       "    <tr>\n",
       "      <th>2</th>\n",
       "      <td>0.513298</td>\n",
       "      <td>0.465060</td>\n",
       "      <td>0.154255</td>\n",
       "      <td>172</td>\n",
       "      <td>154</td>\n",
       "      <td>133</td>\n",
       "      <td>116</td>\n",
       "      <td>0</td>\n",
       "    </tr>\n",
       "    <tr>\n",
       "      <th>3</th>\n",
       "      <td>0.450000</td>\n",
       "      <td>0.432911</td>\n",
       "      <td>0.121053</td>\n",
       "      <td>161</td>\n",
       "      <td>165</td>\n",
       "      <td>99</td>\n",
       "      <td>169</td>\n",
       "      <td>0</td>\n",
       "    </tr>\n",
       "    <tr>\n",
       "      <th>4</th>\n",
       "      <td>0.447570</td>\n",
       "      <td>0.418660</td>\n",
       "      <td>0.132992</td>\n",
       "      <td>173</td>\n",
       "      <td>187</td>\n",
       "      <td>120</td>\n",
       "      <td>170</td>\n",
       "      <td>0</td>\n",
       "    </tr>\n",
       "    <tr>\n",
       "      <th>...</th>\n",
       "      <td>...</td>\n",
       "      <td>...</td>\n",
       "      <td>...</td>\n",
       "      <td>...</td>\n",
       "      <td>...</td>\n",
       "      <td>...</td>\n",
       "      <td>...</td>\n",
       "      <td>...</td>\n",
       "    </tr>\n",
       "    <tr>\n",
       "      <th>163</th>\n",
       "      <td>0.457921</td>\n",
       "      <td>0.456790</td>\n",
       "      <td>0.195545</td>\n",
       "      <td>160</td>\n",
       "      <td>141</td>\n",
       "      <td>137</td>\n",
       "      <td>141</td>\n",
       "      <td>1</td>\n",
       "    </tr>\n",
       "    <tr>\n",
       "      <th>164</th>\n",
       "      <td>0.501401</td>\n",
       "      <td>0.485095</td>\n",
       "      <td>0.193277</td>\n",
       "      <td>129</td>\n",
       "      <td>138</td>\n",
       "      <td>118</td>\n",
       "      <td>132</td>\n",
       "      <td>1</td>\n",
       "    </tr>\n",
       "    <tr>\n",
       "      <th>165</th>\n",
       "      <td>0.467262</td>\n",
       "      <td>0.480122</td>\n",
       "      <td>0.148810</td>\n",
       "      <td>131</td>\n",
       "      <td>121</td>\n",
       "      <td>104</td>\n",
       "      <td>134</td>\n",
       "      <td>1</td>\n",
       "    </tr>\n",
       "    <tr>\n",
       "      <th>166</th>\n",
       "      <td>0.365439</td>\n",
       "      <td>0.398148</td>\n",
       "      <td>0.195467</td>\n",
       "      <td>130</td>\n",
       "      <td>129</td>\n",
       "      <td>165</td>\n",
       "      <td>105</td>\n",
       "      <td>1</td>\n",
       "    </tr>\n",
       "    <tr>\n",
       "      <th>167</th>\n",
       "      <td>0.474801</td>\n",
       "      <td>0.490411</td>\n",
       "      <td>0.076923</td>\n",
       "      <td>181</td>\n",
       "      <td>149</td>\n",
       "      <td>102</td>\n",
       "      <td>170</td>\n",
       "      <td>1</td>\n",
       "    </tr>\n",
       "  </tbody>\n",
       "</table>\n",
       "<p>168 rows × 8 columns</p>\n",
       "</div>"
      ],
      "text/plain": [
       "          CDR      VCDR       RDR    I    S    N    T  Labels\n",
       "0    0.602564  0.470000  0.071795  236  218  130  133       0\n",
       "1    0.493056  0.423459  0.060185  197  241  127  173       0\n",
       "2    0.513298  0.465060  0.154255  172  154  133  116       0\n",
       "3    0.450000  0.432911  0.121053  161  165   99  169       0\n",
       "4    0.447570  0.418660  0.132992  173  187  120  170       0\n",
       "..        ...       ...       ...  ...  ...  ...  ...     ...\n",
       "163  0.457921  0.456790  0.195545  160  141  137  141       1\n",
       "164  0.501401  0.485095  0.193277  129  138  118  132       1\n",
       "165  0.467262  0.480122  0.148810  131  121  104  134       1\n",
       "166  0.365439  0.398148  0.195467  130  129  165  105       1\n",
       "167  0.474801  0.490411  0.076923  181  149  102  170       1\n",
       "\n",
       "[168 rows x 8 columns]"
      ]
     },
     "execution_count": 7,
     "metadata": {},
     "output_type": "execute_result"
    }
   ],
   "source": [
    "dfc"
   ]
  },
  {
   "cell_type": "code",
   "execution_count": 8,
   "id": "3058fb0a-2ce3-4503-893e-7cf2e1a83332",
   "metadata": {},
   "outputs": [
    {
     "data": {
      "text/plain": [
       "0.11506752951139768"
      ]
     },
     "execution_count": 8,
     "metadata": {},
     "output_type": "execute_result"
    }
   ],
   "source": [
    "dfc[dfc['RDR'] != 2]['RDR'].mean()"
   ]
  },
  {
   "cell_type": "code",
   "execution_count": 9,
   "id": "f7246f1e-6cdd-4d3b-b535-953fa8bd615f",
   "metadata": {},
   "outputs": [],
   "source": [
    "dfc.loc[dfc[\"RDR\"] == 2.0, \"RDR\"] = dfc[dfc['RDR'] != 2]['RDR'].mean()"
   ]
  },
  {
   "cell_type": "code",
   "execution_count": 10,
   "id": "3bf9a024-804e-4459-a1b5-edaa7d2a3eb3",
   "metadata": {},
   "outputs": [],
   "source": [
    "X = dfc.drop('Labels', axis=1)\n",
    "y = dfc['Labels']\n",
    "\n",
    "X_train, X_test, y_train, y_test = train_test_split(\n",
    "    X, y, \n",
    "    test_size=0.2, random_state=42\n",
    ")"
   ]
  },
  {
   "cell_type": "code",
   "execution_count": 11,
   "id": "76566451-5efa-4b19-9673-654b31ce2125",
   "metadata": {},
   "outputs": [],
   "source": [
    "scaler = StandardScaler()\n",
    "X_train_scaled = scaler.fit_transform(X_train)\n",
    "X_test_scaled = scaler.transform(X_test)"
   ]
  },
  {
   "cell_type": "code",
   "execution_count": null,
   "id": "6df03a04-4770-4a88-a0f0-7bdb6d0e31c7",
   "metadata": {},
   "outputs": [],
   "source": []
  },
  {
   "cell_type": "code",
   "execution_count": 12,
   "id": "2969900a-fc0c-4f83-8d74-eaf6fbf6f19a",
   "metadata": {},
   "outputs": [
    {
     "name": "stderr",
     "output_type": "stream",
     "text": [
      "2022-10-30 16:10:38.770251: I tensorflow/core/platform/cpu_feature_guard.cc:193] This TensorFlow binary is optimized with oneAPI Deep Neural Network Library (oneDNN) to use the following CPU instructions in performance-critical operations:  AVX2 FMA\n",
      "To enable them in other operations, rebuild TensorFlow with the appropriate compiler flags.\n"
     ]
    }
   ],
   "source": [
    "# 5 -> 79%\n",
    "model = tf.keras.Sequential([\n",
    "    tf.keras.layers.Dense(7, activation='relu'), # 4,5,7,1\n",
    "    tf.keras.layers.Dense(8, activation='relu'),\n",
    "    tf.keras.layers.Dense(14, activation='relu'),\n",
    "    tf.keras.layers.Dense(4, activation='relu'),\n",
    "    tf.keras.layers.Dense(1, activation='sigmoid')\n",
    "])\n",
    "\n",
    "model.compile(\n",
    "    loss=tf.keras.losses.binary_crossentropy,\n",
    "    optimizer=tf.keras.optimizers.Adam(learning_rate=0.05),\n",
    "    metrics=[\n",
    "        tf.keras.metrics.BinaryAccuracy(name='accuracy'),\n",
    "        tf.keras.metrics.Precision(name='precision'),\n",
    "        tf.keras.metrics.Recall(name='recall')\n",
    "    ]\n",
    ")\n",
    "\n",
    "history = model.fit(X_train_scaled, y_train, epochs=50random.seed(3), verbose=0)"
   ]
  },
  {
   "cell_type": "code",
   "execution_count": 13,
   "id": "e3aacd97-fb56-470c-b363-b4abbcc0fd45",
   "metadata": {},
   "outputs": [
    {
     "name": "stdout",
     "output_type": "stream",
     "text": [
      "2/2 [==============================] - 0s 2ms/step\n"
     ]
    }
   ],
   "source": [
    "predictions = model.predict(X_test_scaled)\n",
    "prediction_classes = [\n",
    "    1 if prob > 0.5 else 0 for prob in np.ravel(predictions)\n",
    "]"
   ]
  },
  {
   "cell_type": "code",
   "execution_count": 14,
   "id": "1d881dbc-4a0a-4f3b-9f86-d1fae0713eee",
   "metadata": {},
   "outputs": [
    {
     "name": "stdout",
     "output_type": "stream",
     "text": [
      "Accuracy: 0.44\n",
      "Precision: 0.38\n",
      "Recall: 0.57\n"
     ]
    }
   ],
   "source": [
    "print(f'Accuracy: {accuracy_score(y_test, prediction_classes):.2f}')\n",
    "print(f'Precision: {precision_score(y_test, prediction_classes):.2f}')\n",
    "print(f'Recall: {recall_score(y_test, prediction_classes):.2f}')"
   ]
  },
  {
   "cell_type": "markdown",
   "id": "9839f319-4f9f-4431-8720-9fe12e1e51e6",
   "metadata": {},
   "source": [
    "## SVM"
   ]
  },
  {
   "cell_type": "code",
   "execution_count": 15,
   "id": "edbcbdca-d7ef-44f1-a982-7e545e7f349e",
   "metadata": {},
   "outputs": [],
   "source": [
    "from sklearn.model_selection import train_test_split\n",
    "from sklearn.preprocessing import StandardScaler\n",
    "from sklearn import svm\n",
    "from sklearn.metrics import accuracy_score, precision_score, recall_score"
   ]
  },
  {
   "cell_type": "code",
   "execution_count": 16,
   "id": "cf48bc08-59c5-4253-a0d9-43285bdf6698",
   "metadata": {},
   "outputs": [],
   "source": [
    "df = pd.read_csv('../src/Fex_b.csv')"
   ]
  },
  {
   "cell_type": "code",
   "execution_count": 17,
   "id": "297380f0-622e-49c6-b36f-5b9629129626",
   "metadata": {},
   "outputs": [],
   "source": [
    "def read_dataframe(dataframe):\n",
    "    dfc = dataframe.copy(True)\n",
    "    dfc.drop('ImagesName', inplace=True, axis=1)\n",
    "    return dfc"
   ]
  },
  {
   "cell_type": "code",
   "execution_count": 18,
   "id": "bf20bba4-5aaf-46ce-9b5c-95647ebadd5f",
   "metadata": {},
   "outputs": [],
   "source": [
    "dfc = read_dataframe(df)"
   ]
  },
  {
   "cell_type": "code",
   "execution_count": 19,
   "id": "5ac82067-6cf0-4e48-ae7c-8be024611431",
   "metadata": {},
   "outputs": [],
   "source": [
    "dfc.loc[dfc[\"RDR\"] == 2.0, \"RDR\"] = dfc[dfc['RDR'] != 2]['RDR'].mean()"
   ]
  },
  {
   "cell_type": "code",
   "execution_count": 20,
   "id": "05922162-02fc-4362-9068-a301ec68dfd9",
   "metadata": {},
   "outputs": [],
   "source": [
    "X = dfc.drop('Labels', axis=1)\n",
    "y = dfc['Labels']\n",
    "\n",
    "X_train, X_test, y_train, y_test = train_test_split(\n",
    "    X, y, \n",
    "    test_size=0.2, random_state=42\n",
    ")"
   ]
  },
  {
   "cell_type": "code",
   "execution_count": 21,
   "id": "1c146284-f30b-4fc9-9f99-2210ff7696a0",
   "metadata": {},
   "outputs": [],
   "source": [
    "scaler = StandardScaler()\n",
    "X_train_scaled = scaler.fit_transform(X_train)\n",
    "X_test_scaled = scaler.transform(X_test)"
   ]
  },
  {
   "cell_type": "code",
   "execution_count": 22,
   "id": "b6306360-bcfe-48fb-a5bf-cee18e72ac12",
   "metadata": {},
   "outputs": [],
   "source": [
    "clf = svm.SVC()\n",
    "clf.fit(X_train_scaled, y_train)\n",
    "y_pred = clf.predict(X_test_scaled)"
   ]
  },
  {
   "cell_type": "code",
   "execution_count": 23,
   "id": "74dffad8-aa40-4241-9533-a6be8b4cc5dd",
   "metadata": {},
   "outputs": [
    {
     "name": "stdout",
     "output_type": "stream",
     "text": [
      "Accuracy: 0.68\n",
      "Precision: 0.58\n",
      "Recall: 0.79\n"
     ]
    }
   ],
   "source": [
    "print(f'Accuracy: {accuracy_score(y_test, y_pred):.2f}')\n",
    "print(f'Precision: {precision_score(y_test, y_pred):.2f}')\n",
    "print(f'Recall: {recall_score(y_test, y_pred):.2f}')"
   ]
  },
  {
   "cell_type": "code",
   "execution_count": null,
   "id": "0c8399e0-6a3a-4333-a57b-66311c7b57bd",
   "metadata": {},
   "outputs": [],
   "source": []
  }
 ],
 "metadata": {
  "kernelspec": {
   "display_name": "segeralulus-2de6Tznz",
   "language": "python",
   "name": "segeralulus-2de6tznz"
  },
  "language_info": {
   "codemirror_mode": {
    "name": "ipython",
    "version": 3
   },
   "file_extension": ".py",
   "mimetype": "text/x-python",
   "name": "python",
   "nbconvert_exporter": "python",
   "pygments_lexer": "ipython3",
   "version": "3.10.4"
  }
 },
 "nbformat": 4,
 "nbformat_minor": 5
}
