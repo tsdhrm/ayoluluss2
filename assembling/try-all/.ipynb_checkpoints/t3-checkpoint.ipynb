{
 "cells": [
  {
   "cell_type": "markdown",
   "id": "70477543-3737-47a9-b6f7-2ae3d21e9d5f",
   "metadata": {},
   "source": [
    "# Trial 3"
   ]
  },
  {
   "cell_type": "code",
   "execution_count": 18,
   "id": "b78aa754-ac58-40e7-9faf-0b086b5bb75a",
   "metadata": {},
   "outputs": [],
   "source": [
    "import cv2\n",
    "import numpy as np\n",
    "import matplotlib.pyplot as plt\n",
    "import os"
   ]
  },
  {
   "cell_type": "code",
   "execution_count": 19,
   "id": "1c9673f4-2efc-484a-b403-c316d8599e4e",
   "metadata": {},
   "outputs": [],
   "source": [
    "# POSITIVE  = r'/home/tsdhrm/Pictures/thesis/100Dataset/Positive'\n",
    "POSITIVE = r'/Users/teguhsatya/Desktop/100Data/positive'"
   ]
  },
  {
   "cell_type": "code",
   "execution_count": 20,
   "id": "25a3a26a-9b8b-4ca8-824b-290e5ac516b7",
   "metadata": {},
   "outputs": [],
   "source": [
    "images = {}\n",
    "for fname in os.listdir(POSITIVE):\n",
    "    f = fname.split('.')[0]\n",
    "    images[f] = cv2.imread(os.path.join(os.path.join(POSITIVE, fname)))\n",
    "    images[f] = cv2.cvtColor(images[f], cv2.COLOR_BGR2RGB)"
   ]
  },
  {
   "cell_type": "code",
   "execution_count": 63,
   "id": "027e7273-8344-4539-bba6-957cc4d6c026",
   "metadata": {},
   "outputs": [],
   "source": [
    "def resize_all(imgs, prcnt=50):\n",
    "    resized = {}\n",
    "    for img in imgs:\n",
    "        resized[img] = cv2.resize(imgs[img], (int(imgs[img].shape[1]*prcnt/100), int(imgs[img].shape[0]*prcnt/100)), cv2.INTER_AREA)\n",
    "    return resized\n",
    "\n",
    "def display_all(imgs, subs, use_gray=False):\n",
    "    fig, axs = plt.subplots(subs[0], subs[1], figsize=(18, 21))\n",
    "    k = 0\n",
    "    for i in range(subs[0]):\n",
    "        for j in range(subs[1]):\n",
    "            axs[i, j].imshow(list(imgs.values())[k], 'gray' if use_gray else None)\n",
    "            axs[i, j].set_title(list(imgs.keys())[k])\n",
    "            axs[i, j].axis('off')\n",
    "            k+=1\n",
    "            \n",
    "def display_all_with(imgs, subs, cc, use_gray=True):\n",
    "    fig, axs = plt.subplots(subs[0], subs[1], figsize=(18, 21))\n",
    "    k = 0\n",
    "    for i in range(subs[0]):\n",
    "        for j in range(subs[1]):\n",
    "            axs[i, j].imshow(list(imgs.values())[k][:,:,cc], cmap='gray' if use_gray else None)\n",
    "            axs[i, j].set_title(list(imgs.keys())[k])\n",
    "            axs[i, j].axis('off')\n",
    "            k+=1\n",
    "            \n",
    "def adjust_gamma(image, gamma=1.0):\n",
    "    invGamma = 1.0 / gamma\n",
    "    table = np.array([((i / 255.0) ** invGamma) * 255 for i in np.arange(0, 256)]).astype(\"uint8\")\n",
    "    return cv2.LUT(image, table)\n",
    "\n",
    "def get_the_roi(imgs):\n",
    "    rois = {}\n",
    "    converted = {}\n",
    "    green = {}\n",
    "    red = {}\n",
    "    ths = {}\n",
    "    kernel = cv2.getStructuringElement(cv2.MORPH_ELLIPSE, (45,45))\n",
    "    for img in imgs:\n",
    "        LAB = cv2.cvtColor(imgs[img], cv2.COLOR_RGB2LAB)\n",
    "        l, a , b = cv2.split(LAB)\n",
    "        clahe = cv2.createCLAHE(2.0, (8,8))\n",
    "        l = clahe.apply(l)\n",
    "        lab = cv2.merge([l, a, b])\n",
    "        cvt = cv2.cvtColor(lab, cv2.COLOR_LAB2RGB)\n",
    "        cropped = cvt[250:-200, 250:-250]\n",
    "        channel = cropped[:,:,2]\n",
    "        converted[img] = adjust_gamma(channel, 0.3)\n",
    "    \n",
    "        \n",
    "\n",
    "        \n",
    "    # display_all_with(converted, (10,10), 1)\n",
    "    display_all(converted, (10,10), True)\n",
    "        \n",
    "        \n",
    "        \n",
    "    return rois"
   ]
  },
  {
   "cell_type": "code",
   "execution_count": 25,
   "id": "5ebef796-8554-4f51-934f-1a57449adacf",
   "metadata": {},
   "outputs": [],
   "source": [
    "rsz_imgs = resize_all(images)"
   ]
  },
  {
   "cell_type": "code",
   "execution_count": null,
   "id": "5289df06-c62b-476b-9696-2a17bbc798f6",
   "metadata": {},
   "outputs": [],
   "source": [
    "roi = get_the_roi(rsz_imgs.copy())"
   ]
  },
  {
   "cell_type": "code",
   "execution_count": null,
   "id": "0ef2fba6-6068-476c-b9c6-69440624ab67",
   "metadata": {},
   "outputs": [],
   "source": []
  }
 ],
 "metadata": {
  "kernelspec": {
   "display_name": "segeralulus-2de6Tznz",
   "language": "python",
   "name": "segeralulus-2de6tznz"
  },
  "language_info": {
   "codemirror_mode": {
    "name": "ipython",
    "version": 3
   },
   "file_extension": ".py",
   "mimetype": "text/x-python",
   "name": "python",
   "nbconvert_exporter": "python",
   "pygments_lexer": "ipython3",
   "version": "3.10.4"
  }
 },
 "nbformat": 4,
 "nbformat_minor": 5
}
