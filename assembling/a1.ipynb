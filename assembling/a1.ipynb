{
 "cells": [
  {
   "cell_type": "code",
   "execution_count": 1,
   "id": "af47179f-c839-4dfc-a779-d89e0cfc6e63",
   "metadata": {},
   "outputs": [],
   "source": [
    "import cv2\n",
    "import matplotlib.pyplot as plt\n",
    "import numpy as np\n",
    "import os"
   ]
  },
  {
   "cell_type": "code",
   "execution_count": 2,
   "id": "c5244398-9809-4a7b-839c-9fb1b91eabcf",
   "metadata": {},
   "outputs": [],
   "source": [
    "# DATA = '/home/tsdhrm/Desktop/T/dataset/100Bro/negative'\n",
    "DATA = '/home/tsdhrm/Desktop/moiOneHundred-20220915T100556Z-001/moiOneHundred'"
   ]
  },
  {
   "cell_type": "code",
   "execution_count": 3,
   "id": "7702676e-7588-45a0-9382-5f1b0cc47bb1",
   "metadata": {},
   "outputs": [
    {
     "ename": "error",
     "evalue": "OpenCV(4.6.0) /io/opencv/modules/imgproc/src/color.cpp:182: error: (-215:Assertion failed) !_src.empty() in function 'cvtColor'\n",
     "output_type": "error",
     "traceback": [
      "\u001b[0;31m---------------------------------------------------------------------------\u001b[0m",
      "\u001b[0;31merror\u001b[0m                                     Traceback (most recent call last)",
      "Cell \u001b[0;32mIn [3], line 5\u001b[0m\n\u001b[1;32m      3\u001b[0m f \u001b[38;5;241m=\u001b[39m fname\u001b[38;5;241m.\u001b[39msplit(\u001b[38;5;124m'\u001b[39m\u001b[38;5;124m.\u001b[39m\u001b[38;5;124m'\u001b[39m)[\u001b[38;5;241m0\u001b[39m]\n\u001b[1;32m      4\u001b[0m retina[f] \u001b[38;5;241m=\u001b[39m cv2\u001b[38;5;241m.\u001b[39mimread(os\u001b[38;5;241m.\u001b[39mpath\u001b[38;5;241m.\u001b[39mjoin(os\u001b[38;5;241m.\u001b[39mpath\u001b[38;5;241m.\u001b[39mjoin(DATA, fname)))\n\u001b[0;32m----> 5\u001b[0m retina[f] \u001b[38;5;241m=\u001b[39m \u001b[43mcv2\u001b[49m\u001b[38;5;241;43m.\u001b[39;49m\u001b[43mcvtColor\u001b[49m\u001b[43m(\u001b[49m\u001b[43mretina\u001b[49m\u001b[43m[\u001b[49m\u001b[43mf\u001b[49m\u001b[43m]\u001b[49m\u001b[43m,\u001b[49m\u001b[43m \u001b[49m\u001b[43mcv2\u001b[49m\u001b[38;5;241;43m.\u001b[39;49m\u001b[43mCOLOR_BGR2RGB\u001b[49m\u001b[43m)\u001b[49m\n",
      "\u001b[0;31merror\u001b[0m: OpenCV(4.6.0) /io/opencv/modules/imgproc/src/color.cpp:182: error: (-215:Assertion failed) !_src.empty() in function 'cvtColor'\n"
     ]
    }
   ],
   "source": [
    "retina = {}\n",
    "for fname in os.listdir(DATA):\n",
    "    f = fname.split('.')[0]\n",
    "    retina[f] = cv2.imread(os.path.join(os.path.join(DATA, fname)))\n",
    "    retina[f] = cv2.cvtColor(retina[f], cv2.COLOR_BGR2RGB)"
   ]
  },
  {
   "cell_type": "markdown",
   "id": "1d5e3468-7301-40d8-b9db-0eb4757525f5",
   "metadata": {},
   "source": [
    "# Functions: Display"
   ]
  },
  {
   "cell_type": "code",
   "execution_count": null,
   "id": "d612aa25-ddc3-49b3-b61c-d86c2a34fa93",
   "metadata": {},
   "outputs": [],
   "source": [
    "def display_all(imgs, subs=(10,10), use_gray=False):\n",
    "    fig, axs = plt.subplots(subs[0], subs[1], figsize=(18, 21))\n",
    "    k = 0\n",
    "    for i in range(subs[0]):\n",
    "        for j in range(subs[1]):\n",
    "            axs[i, j].imshow(list(imgs.values())[k], 'gray' if use_gray else None)\n",
    "            axs[i, j].set_title(list(imgs.keys())[k])\n",
    "            axs[i, j].axis('off')\n",
    "            k+=1\n",
    "            \n",
    "def display_all_with(imgs, cc, subs=(10,10), use_gray=True):\n",
    "    fig, axs = plt.subplots(subs[0], subs[1], figsize=(18, 21))\n",
    "    k = 0\n",
    "    for i in range(subs[0]):\n",
    "        for j in range(subs[1]):\n",
    "            axs[i, j].imshow(list(imgs.values())[k][:,:,cc], cmap='gray' if use_gray else None)\n",
    "            axs[i, j].set_title(list(imgs.keys())[k])\n",
    "            axs[i, j].axis('off')\n",
    "            k+=1"
   ]
  },
  {
   "cell_type": "markdown",
   "id": "022b6b66-99e4-438f-8b54-2bee5c22e6b8",
   "metadata": {},
   "source": [
    "# Functions: Preprocess"
   ]
  },
  {
   "cell_type": "code",
   "execution_count": null,
   "id": "c33819f3-2cb8-403c-ac8e-a4908c7dd6d5",
   "metadata": {},
   "outputs": [],
   "source": [
    "def resize_all(imgs, prcnt=50):\n",
    "    resized = {}\n",
    "    for img in imgs:\n",
    "        resized[img] = cv2.resize(imgs[img], (int(imgs[img].shape[1]*prcnt/100), int(imgs[img].shape[0]*prcnt/100)), cv2.INTER_AREA)\n",
    "    return resized\n",
    "\n",
    "def adjust_gamma(image, gamma=1.0):\n",
    "    invGamma = 1.0 / gamma\n",
    "    table = np.array([((i / 255.0) ** invGamma) * 255 for i in np.arange(0, 256)]).astype(\"uint8\")\n",
    "    return cv2.LUT(image, table)"
   ]
  },
  {
   "cell_type": "markdown",
   "id": "48e844dc-fe4e-4258-a929-a7fe1f541361",
   "metadata": {},
   "source": [
    "# Main"
   ]
  },
  {
   "cell_type": "code",
   "execution_count": null,
   "id": "1c31f276-a25c-48ad-a7ce-3b9a27a480bc",
   "metadata": {},
   "outputs": [],
   "source": [
    "resized = resize_all(retina)"
   ]
  },
  {
   "cell_type": "code",
   "execution_count": null,
   "id": "3f77bbdf-5829-479a-9803-556e0f7c5504",
   "metadata": {},
   "outputs": [],
   "source": [
    "display_all(resized, (10,10))"
   ]
  },
  {
   "cell_type": "markdown",
   "id": "85105ef7-4119-4013-828b-b18e168388e9",
   "metadata": {},
   "source": [
    "# Functions: Get ROI"
   ]
  },
  {
   "cell_type": "code",
   "execution_count": null,
   "id": "65f2056a-feba-4cfc-8040-11ba6559f175",
   "metadata": {},
   "outputs": [],
   "source": [
    "def correct_illum(img):\n",
    "    lab = cv2.cvtColor(img, cv2.COLOR_RGB2LAB)\n",
    "    clahe = cv2.createCLAHE(2.5, (8,8))\n",
    "    lab[:,:,0] = clahe.apply(lab[:,:,0])\n",
    "    return cv2.cvtColor(lab, cv2.COLOR_LAB2RGB)\n",
    "                                 \n",
    "\n",
    "def get_roi(imgs):\n",
    "    im = {}\n",
    "    for img in imgs:\n",
    "        ill_corrected= correct_illum(imgs[img])\n",
    "        ret, im[img] = cv2.threshold(ill_corrected[:,:,0], 125, 255, cv2.THRESH_BINARY)\n",
    "    display_all(im, (10,10), use_gray=True)\n",
    "    return 0"
   ]
  },
  {
   "cell_type": "code",
   "execution_count": null,
   "id": "8df1ac17-ef1c-4f3f-b1ec-47109e242829",
   "metadata": {},
   "outputs": [],
   "source": [
    "rois = get_roi(resized)"
   ]
  },
  {
   "cell_type": "code",
   "execution_count": null,
   "id": "02fca2b9-58f6-4112-8021-9e7b9d4b39bb",
   "metadata": {},
   "outputs": [],
   "source": []
  },
  {
   "cell_type": "code",
   "execution_count": null,
   "id": "af1b4660-4b37-4eac-8e36-c452d3fdaeda",
   "metadata": {},
   "outputs": [],
   "source": []
  },
  {
   "cell_type": "code",
   "execution_count": null,
   "id": "e2198462-24f3-41af-b024-f435d7ed52a0",
   "metadata": {},
   "outputs": [],
   "source": []
  }
 ],
 "metadata": {
  "kernelspec": {
   "display_name": "ayoluluss2-gO8leQxs",
   "language": "python",
   "name": "ayoluluss2-go8leqxs"
  },
  "language_info": {
   "codemirror_mode": {
    "name": "ipython",
    "version": 3
   },
   "file_extension": ".py",
   "mimetype": "text/x-python",
   "name": "python",
   "nbconvert_exporter": "python",
   "pygments_lexer": "ipython3",
   "version": "3.10.4"
  }
 },
 "nbformat": 4,
 "nbformat_minor": 5
}
