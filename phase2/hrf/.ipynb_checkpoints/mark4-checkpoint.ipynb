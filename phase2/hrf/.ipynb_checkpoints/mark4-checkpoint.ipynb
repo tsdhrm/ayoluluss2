{
 "cells": [
  {
   "cell_type": "code",
   "execution_count": null,
   "id": "f14dfc13-ab3e-46d0-818e-255d212b4567",
   "metadata": {},
   "outputs": [],
   "source": []
  }
 ],
 "metadata": {
  "kernelspec": {
   "display_name": "segeralulus-2de6Tznz",
   "language": "python",
   "name": "segeralulus-2de6tznz"
  },
  "language_info": {
   "codemirror_mode": {
    "name": "ipython",
    "version": 3
   },
   "file_extension": ".py",
   "mimetype": "text/x-python",
   "name": "python",
   "nbconvert_exporter": "python",
   "pygments_lexer": "ipython3",
   "version": "3.10.4"
  }
 },
 "nbformat": 4,
 "nbformat_minor": 5
}
